{
  "nbformat": 4,
  "nbformat_minor": 0,
  "metadata": {
    "colab": {
      "provenance": [],
      "gpuType": "T4",
      "authorship_tag": "ABX9TyPwtJPqlZE9lNUhzG/BfA7w"
    },
    "kernelspec": {
      "name": "python3",
      "display_name": "Python 3"
    },
    "language_info": {
      "name": "python"
    },
    "accelerator": "GPU",
    "widgets": {
      "application/vnd.jupyter.widget-state+json": {
        "26b258bf399042d4a811402de30bfab7": {
          "model_module": "@jupyter-widgets/controls",
          "model_name": "HBoxModel",
          "model_module_version": "1.5.0",
          "state": {
            "_dom_classes": [],
            "_model_module": "@jupyter-widgets/controls",
            "_model_module_version": "1.5.0",
            "_model_name": "HBoxModel",
            "_view_count": null,
            "_view_module": "@jupyter-widgets/controls",
            "_view_module_version": "1.5.0",
            "_view_name": "HBoxView",
            "box_style": "",
            "children": [
              "IPY_MODEL_eef0d7dcadef464b956d05ca78623795",
              "IPY_MODEL_8829d6f57a294d53ac3a3bfa0ac61e5e",
              "IPY_MODEL_564e3d4b579d47eea160ca95980884c3"
            ],
            "layout": "IPY_MODEL_7a79f889efae498e8ee10cf877ba46a9"
          }
        },
        "eef0d7dcadef464b956d05ca78623795": {
          "model_module": "@jupyter-widgets/controls",
          "model_name": "HTMLModel",
          "model_module_version": "1.5.0",
          "state": {
            "_dom_classes": [],
            "_model_module": "@jupyter-widgets/controls",
            "_model_module_version": "1.5.0",
            "_model_name": "HTMLModel",
            "_view_count": null,
            "_view_module": "@jupyter-widgets/controls",
            "_view_module_version": "1.5.0",
            "_view_name": "HTMLView",
            "description": "",
            "description_tooltip": null,
            "layout": "IPY_MODEL_6a4f97d8fca241f8a24f6bceff03450d",
            "placeholder": "​",
            "style": "IPY_MODEL_f7c8fda7d37e4d8ca855a16c439cb3e3",
            "value": "100%"
          }
        },
        "8829d6f57a294d53ac3a3bfa0ac61e5e": {
          "model_module": "@jupyter-widgets/controls",
          "model_name": "FloatProgressModel",
          "model_module_version": "1.5.0",
          "state": {
            "_dom_classes": [],
            "_model_module": "@jupyter-widgets/controls",
            "_model_module_version": "1.5.0",
            "_model_name": "FloatProgressModel",
            "_view_count": null,
            "_view_module": "@jupyter-widgets/controls",
            "_view_module_version": "1.5.0",
            "_view_name": "ProgressView",
            "bar_style": "success",
            "description": "",
            "description_tooltip": null,
            "layout": "IPY_MODEL_99eb30ab74c64a97b4ab1e9e961e08ad",
            "max": 3,
            "min": 0,
            "orientation": "horizontal",
            "style": "IPY_MODEL_7dda26d57ac34ed198da57ffc1562afd",
            "value": 3
          }
        },
        "564e3d4b579d47eea160ca95980884c3": {
          "model_module": "@jupyter-widgets/controls",
          "model_name": "HTMLModel",
          "model_module_version": "1.5.0",
          "state": {
            "_dom_classes": [],
            "_model_module": "@jupyter-widgets/controls",
            "_model_module_version": "1.5.0",
            "_model_name": "HTMLModel",
            "_view_count": null,
            "_view_module": "@jupyter-widgets/controls",
            "_view_module_version": "1.5.0",
            "_view_name": "HTMLView",
            "description": "",
            "description_tooltip": null,
            "layout": "IPY_MODEL_e007e8d6c0424004843069965021f465",
            "placeholder": "​",
            "style": "IPY_MODEL_9898802c773f45eb9665f02625112eca",
            "value": " 3/3 [00:28&lt;00:00,  9.30s/it]"
          }
        },
        "7a79f889efae498e8ee10cf877ba46a9": {
          "model_module": "@jupyter-widgets/base",
          "model_name": "LayoutModel",
          "model_module_version": "1.2.0",
          "state": {
            "_model_module": "@jupyter-widgets/base",
            "_model_module_version": "1.2.0",
            "_model_name": "LayoutModel",
            "_view_count": null,
            "_view_module": "@jupyter-widgets/base",
            "_view_module_version": "1.2.0",
            "_view_name": "LayoutView",
            "align_content": null,
            "align_items": null,
            "align_self": null,
            "border": null,
            "bottom": null,
            "display": null,
            "flex": null,
            "flex_flow": null,
            "grid_area": null,
            "grid_auto_columns": null,
            "grid_auto_flow": null,
            "grid_auto_rows": null,
            "grid_column": null,
            "grid_gap": null,
            "grid_row": null,
            "grid_template_areas": null,
            "grid_template_columns": null,
            "grid_template_rows": null,
            "height": null,
            "justify_content": null,
            "justify_items": null,
            "left": null,
            "margin": null,
            "max_height": null,
            "max_width": null,
            "min_height": null,
            "min_width": null,
            "object_fit": null,
            "object_position": null,
            "order": null,
            "overflow": null,
            "overflow_x": null,
            "overflow_y": null,
            "padding": null,
            "right": null,
            "top": null,
            "visibility": null,
            "width": null
          }
        },
        "6a4f97d8fca241f8a24f6bceff03450d": {
          "model_module": "@jupyter-widgets/base",
          "model_name": "LayoutModel",
          "model_module_version": "1.2.0",
          "state": {
            "_model_module": "@jupyter-widgets/base",
            "_model_module_version": "1.2.0",
            "_model_name": "LayoutModel",
            "_view_count": null,
            "_view_module": "@jupyter-widgets/base",
            "_view_module_version": "1.2.0",
            "_view_name": "LayoutView",
            "align_content": null,
            "align_items": null,
            "align_self": null,
            "border": null,
            "bottom": null,
            "display": null,
            "flex": null,
            "flex_flow": null,
            "grid_area": null,
            "grid_auto_columns": null,
            "grid_auto_flow": null,
            "grid_auto_rows": null,
            "grid_column": null,
            "grid_gap": null,
            "grid_row": null,
            "grid_template_areas": null,
            "grid_template_columns": null,
            "grid_template_rows": null,
            "height": null,
            "justify_content": null,
            "justify_items": null,
            "left": null,
            "margin": null,
            "max_height": null,
            "max_width": null,
            "min_height": null,
            "min_width": null,
            "object_fit": null,
            "object_position": null,
            "order": null,
            "overflow": null,
            "overflow_x": null,
            "overflow_y": null,
            "padding": null,
            "right": null,
            "top": null,
            "visibility": null,
            "width": null
          }
        },
        "f7c8fda7d37e4d8ca855a16c439cb3e3": {
          "model_module": "@jupyter-widgets/controls",
          "model_name": "DescriptionStyleModel",
          "model_module_version": "1.5.0",
          "state": {
            "_model_module": "@jupyter-widgets/controls",
            "_model_module_version": "1.5.0",
            "_model_name": "DescriptionStyleModel",
            "_view_count": null,
            "_view_module": "@jupyter-widgets/base",
            "_view_module_version": "1.2.0",
            "_view_name": "StyleView",
            "description_width": ""
          }
        },
        "99eb30ab74c64a97b4ab1e9e961e08ad": {
          "model_module": "@jupyter-widgets/base",
          "model_name": "LayoutModel",
          "model_module_version": "1.2.0",
          "state": {
            "_model_module": "@jupyter-widgets/base",
            "_model_module_version": "1.2.0",
            "_model_name": "LayoutModel",
            "_view_count": null,
            "_view_module": "@jupyter-widgets/base",
            "_view_module_version": "1.2.0",
            "_view_name": "LayoutView",
            "align_content": null,
            "align_items": null,
            "align_self": null,
            "border": null,
            "bottom": null,
            "display": null,
            "flex": null,
            "flex_flow": null,
            "grid_area": null,
            "grid_auto_columns": null,
            "grid_auto_flow": null,
            "grid_auto_rows": null,
            "grid_column": null,
            "grid_gap": null,
            "grid_row": null,
            "grid_template_areas": null,
            "grid_template_columns": null,
            "grid_template_rows": null,
            "height": null,
            "justify_content": null,
            "justify_items": null,
            "left": null,
            "margin": null,
            "max_height": null,
            "max_width": null,
            "min_height": null,
            "min_width": null,
            "object_fit": null,
            "object_position": null,
            "order": null,
            "overflow": null,
            "overflow_x": null,
            "overflow_y": null,
            "padding": null,
            "right": null,
            "top": null,
            "visibility": null,
            "width": null
          }
        },
        "7dda26d57ac34ed198da57ffc1562afd": {
          "model_module": "@jupyter-widgets/controls",
          "model_name": "ProgressStyleModel",
          "model_module_version": "1.5.0",
          "state": {
            "_model_module": "@jupyter-widgets/controls",
            "_model_module_version": "1.5.0",
            "_model_name": "ProgressStyleModel",
            "_view_count": null,
            "_view_module": "@jupyter-widgets/base",
            "_view_module_version": "1.2.0",
            "_view_name": "StyleView",
            "bar_color": null,
            "description_width": ""
          }
        },
        "e007e8d6c0424004843069965021f465": {
          "model_module": "@jupyter-widgets/base",
          "model_name": "LayoutModel",
          "model_module_version": "1.2.0",
          "state": {
            "_model_module": "@jupyter-widgets/base",
            "_model_module_version": "1.2.0",
            "_model_name": "LayoutModel",
            "_view_count": null,
            "_view_module": "@jupyter-widgets/base",
            "_view_module_version": "1.2.0",
            "_view_name": "LayoutView",
            "align_content": null,
            "align_items": null,
            "align_self": null,
            "border": null,
            "bottom": null,
            "display": null,
            "flex": null,
            "flex_flow": null,
            "grid_area": null,
            "grid_auto_columns": null,
            "grid_auto_flow": null,
            "grid_auto_rows": null,
            "grid_column": null,
            "grid_gap": null,
            "grid_row": null,
            "grid_template_areas": null,
            "grid_template_columns": null,
            "grid_template_rows": null,
            "height": null,
            "justify_content": null,
            "justify_items": null,
            "left": null,
            "margin": null,
            "max_height": null,
            "max_width": null,
            "min_height": null,
            "min_width": null,
            "object_fit": null,
            "object_position": null,
            "order": null,
            "overflow": null,
            "overflow_x": null,
            "overflow_y": null,
            "padding": null,
            "right": null,
            "top": null,
            "visibility": null,
            "width": null
          }
        },
        "9898802c773f45eb9665f02625112eca": {
          "model_module": "@jupyter-widgets/controls",
          "model_name": "DescriptionStyleModel",
          "model_module_version": "1.5.0",
          "state": {
            "_model_module": "@jupyter-widgets/controls",
            "_model_module_version": "1.5.0",
            "_model_name": "DescriptionStyleModel",
            "_view_count": null,
            "_view_module": "@jupyter-widgets/base",
            "_view_module_version": "1.2.0",
            "_view_name": "StyleView",
            "description_width": ""
          }
        },
        "30ecc2a92078400d844684a073d674f5": {
          "model_module": "@jupyter-widgets/controls",
          "model_name": "HBoxModel",
          "model_module_version": "1.5.0",
          "state": {
            "_dom_classes": [],
            "_model_module": "@jupyter-widgets/controls",
            "_model_module_version": "1.5.0",
            "_model_name": "HBoxModel",
            "_view_count": null,
            "_view_module": "@jupyter-widgets/controls",
            "_view_module_version": "1.5.0",
            "_view_name": "HBoxView",
            "box_style": "",
            "children": [
              "IPY_MODEL_ef9dde819d8045d6a16883f9197d351b",
              "IPY_MODEL_9fb9830339aa4cc2987ed1133379069a",
              "IPY_MODEL_6e295cbb4ae84702a63a11c85f9d6cd8"
            ],
            "layout": "IPY_MODEL_a1c1b78512664d5b8a2f25b402359d15"
          }
        },
        "ef9dde819d8045d6a16883f9197d351b": {
          "model_module": "@jupyter-widgets/controls",
          "model_name": "HTMLModel",
          "model_module_version": "1.5.0",
          "state": {
            "_dom_classes": [],
            "_model_module": "@jupyter-widgets/controls",
            "_model_module_version": "1.5.0",
            "_model_name": "HTMLModel",
            "_view_count": null,
            "_view_module": "@jupyter-widgets/controls",
            "_view_module_version": "1.5.0",
            "_view_name": "HTMLView",
            "description": "",
            "description_tooltip": null,
            "layout": "IPY_MODEL_e0d75909d06745adbf02191f9a423139",
            "placeholder": "​",
            "style": "IPY_MODEL_575aad62ca2e4758a7a656ef22dc037c",
            "value": "100%"
          }
        },
        "9fb9830339aa4cc2987ed1133379069a": {
          "model_module": "@jupyter-widgets/controls",
          "model_name": "FloatProgressModel",
          "model_module_version": "1.5.0",
          "state": {
            "_dom_classes": [],
            "_model_module": "@jupyter-widgets/controls",
            "_model_module_version": "1.5.0",
            "_model_name": "FloatProgressModel",
            "_view_count": null,
            "_view_module": "@jupyter-widgets/controls",
            "_view_module_version": "1.5.0",
            "_view_name": "ProgressView",
            "bar_style": "success",
            "description": "",
            "description_tooltip": null,
            "layout": "IPY_MODEL_0f148c4736bf4f81a9c4d52dea1ada00",
            "max": 5,
            "min": 0,
            "orientation": "horizontal",
            "style": "IPY_MODEL_43bbbffeb20d439682d7eb38da0c5c5b",
            "value": 5
          }
        },
        "6e295cbb4ae84702a63a11c85f9d6cd8": {
          "model_module": "@jupyter-widgets/controls",
          "model_name": "HTMLModel",
          "model_module_version": "1.5.0",
          "state": {
            "_dom_classes": [],
            "_model_module": "@jupyter-widgets/controls",
            "_model_module_version": "1.5.0",
            "_model_name": "HTMLModel",
            "_view_count": null,
            "_view_module": "@jupyter-widgets/controls",
            "_view_module_version": "1.5.0",
            "_view_name": "HTMLView",
            "description": "",
            "description_tooltip": null,
            "layout": "IPY_MODEL_a8682ed8a1544faa9586ced32fe2b9b7",
            "placeholder": "​",
            "style": "IPY_MODEL_5bafbea86038491ba4aaddba9ec4b10f",
            "value": " 5/5 [07:21&lt;00:00, 88.16s/it]"
          }
        },
        "a1c1b78512664d5b8a2f25b402359d15": {
          "model_module": "@jupyter-widgets/base",
          "model_name": "LayoutModel",
          "model_module_version": "1.2.0",
          "state": {
            "_model_module": "@jupyter-widgets/base",
            "_model_module_version": "1.2.0",
            "_model_name": "LayoutModel",
            "_view_count": null,
            "_view_module": "@jupyter-widgets/base",
            "_view_module_version": "1.2.0",
            "_view_name": "LayoutView",
            "align_content": null,
            "align_items": null,
            "align_self": null,
            "border": null,
            "bottom": null,
            "display": null,
            "flex": null,
            "flex_flow": null,
            "grid_area": null,
            "grid_auto_columns": null,
            "grid_auto_flow": null,
            "grid_auto_rows": null,
            "grid_column": null,
            "grid_gap": null,
            "grid_row": null,
            "grid_template_areas": null,
            "grid_template_columns": null,
            "grid_template_rows": null,
            "height": null,
            "justify_content": null,
            "justify_items": null,
            "left": null,
            "margin": null,
            "max_height": null,
            "max_width": null,
            "min_height": null,
            "min_width": null,
            "object_fit": null,
            "object_position": null,
            "order": null,
            "overflow": null,
            "overflow_x": null,
            "overflow_y": null,
            "padding": null,
            "right": null,
            "top": null,
            "visibility": null,
            "width": null
          }
        },
        "e0d75909d06745adbf02191f9a423139": {
          "model_module": "@jupyter-widgets/base",
          "model_name": "LayoutModel",
          "model_module_version": "1.2.0",
          "state": {
            "_model_module": "@jupyter-widgets/base",
            "_model_module_version": "1.2.0",
            "_model_name": "LayoutModel",
            "_view_count": null,
            "_view_module": "@jupyter-widgets/base",
            "_view_module_version": "1.2.0",
            "_view_name": "LayoutView",
            "align_content": null,
            "align_items": null,
            "align_self": null,
            "border": null,
            "bottom": null,
            "display": null,
            "flex": null,
            "flex_flow": null,
            "grid_area": null,
            "grid_auto_columns": null,
            "grid_auto_flow": null,
            "grid_auto_rows": null,
            "grid_column": null,
            "grid_gap": null,
            "grid_row": null,
            "grid_template_areas": null,
            "grid_template_columns": null,
            "grid_template_rows": null,
            "height": null,
            "justify_content": null,
            "justify_items": null,
            "left": null,
            "margin": null,
            "max_height": null,
            "max_width": null,
            "min_height": null,
            "min_width": null,
            "object_fit": null,
            "object_position": null,
            "order": null,
            "overflow": null,
            "overflow_x": null,
            "overflow_y": null,
            "padding": null,
            "right": null,
            "top": null,
            "visibility": null,
            "width": null
          }
        },
        "575aad62ca2e4758a7a656ef22dc037c": {
          "model_module": "@jupyter-widgets/controls",
          "model_name": "DescriptionStyleModel",
          "model_module_version": "1.5.0",
          "state": {
            "_model_module": "@jupyter-widgets/controls",
            "_model_module_version": "1.5.0",
            "_model_name": "DescriptionStyleModel",
            "_view_count": null,
            "_view_module": "@jupyter-widgets/base",
            "_view_module_version": "1.2.0",
            "_view_name": "StyleView",
            "description_width": ""
          }
        },
        "0f148c4736bf4f81a9c4d52dea1ada00": {
          "model_module": "@jupyter-widgets/base",
          "model_name": "LayoutModel",
          "model_module_version": "1.2.0",
          "state": {
            "_model_module": "@jupyter-widgets/base",
            "_model_module_version": "1.2.0",
            "_model_name": "LayoutModel",
            "_view_count": null,
            "_view_module": "@jupyter-widgets/base",
            "_view_module_version": "1.2.0",
            "_view_name": "LayoutView",
            "align_content": null,
            "align_items": null,
            "align_self": null,
            "border": null,
            "bottom": null,
            "display": null,
            "flex": null,
            "flex_flow": null,
            "grid_area": null,
            "grid_auto_columns": null,
            "grid_auto_flow": null,
            "grid_auto_rows": null,
            "grid_column": null,
            "grid_gap": null,
            "grid_row": null,
            "grid_template_areas": null,
            "grid_template_columns": null,
            "grid_template_rows": null,
            "height": null,
            "justify_content": null,
            "justify_items": null,
            "left": null,
            "margin": null,
            "max_height": null,
            "max_width": null,
            "min_height": null,
            "min_width": null,
            "object_fit": null,
            "object_position": null,
            "order": null,
            "overflow": null,
            "overflow_x": null,
            "overflow_y": null,
            "padding": null,
            "right": null,
            "top": null,
            "visibility": null,
            "width": null
          }
        },
        "43bbbffeb20d439682d7eb38da0c5c5b": {
          "model_module": "@jupyter-widgets/controls",
          "model_name": "ProgressStyleModel",
          "model_module_version": "1.5.0",
          "state": {
            "_model_module": "@jupyter-widgets/controls",
            "_model_module_version": "1.5.0",
            "_model_name": "ProgressStyleModel",
            "_view_count": null,
            "_view_module": "@jupyter-widgets/base",
            "_view_module_version": "1.2.0",
            "_view_name": "StyleView",
            "bar_color": null,
            "description_width": ""
          }
        },
        "a8682ed8a1544faa9586ced32fe2b9b7": {
          "model_module": "@jupyter-widgets/base",
          "model_name": "LayoutModel",
          "model_module_version": "1.2.0",
          "state": {
            "_model_module": "@jupyter-widgets/base",
            "_model_module_version": "1.2.0",
            "_model_name": "LayoutModel",
            "_view_count": null,
            "_view_module": "@jupyter-widgets/base",
            "_view_module_version": "1.2.0",
            "_view_name": "LayoutView",
            "align_content": null,
            "align_items": null,
            "align_self": null,
            "border": null,
            "bottom": null,
            "display": null,
            "flex": null,
            "flex_flow": null,
            "grid_area": null,
            "grid_auto_columns": null,
            "grid_auto_flow": null,
            "grid_auto_rows": null,
            "grid_column": null,
            "grid_gap": null,
            "grid_row": null,
            "grid_template_areas": null,
            "grid_template_columns": null,
            "grid_template_rows": null,
            "height": null,
            "justify_content": null,
            "justify_items": null,
            "left": null,
            "margin": null,
            "max_height": null,
            "max_width": null,
            "min_height": null,
            "min_width": null,
            "object_fit": null,
            "object_position": null,
            "order": null,
            "overflow": null,
            "overflow_x": null,
            "overflow_y": null,
            "padding": null,
            "right": null,
            "top": null,
            "visibility": null,
            "width": null
          }
        },
        "5bafbea86038491ba4aaddba9ec4b10f": {
          "model_module": "@jupyter-widgets/controls",
          "model_name": "DescriptionStyleModel",
          "model_module_version": "1.5.0",
          "state": {
            "_model_module": "@jupyter-widgets/controls",
            "_model_module_version": "1.5.0",
            "_model_name": "DescriptionStyleModel",
            "_view_count": null,
            "_view_module": "@jupyter-widgets/base",
            "_view_module_version": "1.2.0",
            "_view_name": "StyleView",
            "description_width": ""
          }
        }
      }
    }
  },
  "cells": [
    {
      "cell_type": "code",
      "execution_count": null,
      "metadata": {
        "id": "SlKX7tKzOem3"
      },
      "outputs": [],
      "source": [
        "import torch\n",
        "from torch import nn\n",
        "import torchvision\n",
        "from torchvision import datasets\n",
        "from torchvision.transforms import ToTensor\n",
        "\n",
        "import matplotlib.pyplot as plt\n"
      ]
    },
    {
      "cell_type": "code",
      "source": [
        "##Getting a dataset. we are using datasets of fashionmst\n",
        "from torchvision import datasets\n",
        "from torchvision.transforms import ToTensor\n",
        "train_data = datasets.FashionMNIST(\n",
        "    root=\"data\",\n",
        "    train=True,\n",
        "    download=True,\n",
        "    transform=ToTensor(),\n",
        "    target_transform=None,\n",
        ")\n",
        "\n",
        "test_data = datasets.FashionMNIST(\n",
        "    root=\"data\",\n",
        "    train=False,\n",
        "    download=True,\n",
        "    transform=ToTensor(),\n",
        ")\n"
      ],
      "metadata": {
        "id": "dDEbs69rUN1a",
        "colab": {
          "base_uri": "https://localhost:8080/"
        },
        "outputId": "6ce8c79f-5cd9-4937-9066-b634b28020db"
      },
      "execution_count": null,
      "outputs": [
        {
          "output_type": "stream",
          "name": "stdout",
          "text": [
            "Downloading http://fashion-mnist.s3-website.eu-central-1.amazonaws.com/train-images-idx3-ubyte.gz\n",
            "Downloading http://fashion-mnist.s3-website.eu-central-1.amazonaws.com/train-images-idx3-ubyte.gz to data/FashionMNIST/raw/train-images-idx3-ubyte.gz\n"
          ]
        },
        {
          "output_type": "stream",
          "name": "stderr",
          "text": [
            "100%|██████████| 26.4M/26.4M [00:15<00:00, 1.67MB/s]\n"
          ]
        },
        {
          "output_type": "stream",
          "name": "stdout",
          "text": [
            "Extracting data/FashionMNIST/raw/train-images-idx3-ubyte.gz to data/FashionMNIST/raw\n",
            "\n",
            "Downloading http://fashion-mnist.s3-website.eu-central-1.amazonaws.com/train-labels-idx1-ubyte.gz\n",
            "Downloading http://fashion-mnist.s3-website.eu-central-1.amazonaws.com/train-labels-idx1-ubyte.gz to data/FashionMNIST/raw/train-labels-idx1-ubyte.gz\n"
          ]
        },
        {
          "output_type": "stream",
          "name": "stderr",
          "text": [
            "100%|██████████| 29.5k/29.5k [00:00<00:00, 201kB/s]\n"
          ]
        },
        {
          "output_type": "stream",
          "name": "stdout",
          "text": [
            "Extracting data/FashionMNIST/raw/train-labels-idx1-ubyte.gz to data/FashionMNIST/raw\n",
            "\n",
            "Downloading http://fashion-mnist.s3-website.eu-central-1.amazonaws.com/t10k-images-idx3-ubyte.gz\n",
            "Downloading http://fashion-mnist.s3-website.eu-central-1.amazonaws.com/t10k-images-idx3-ubyte.gz to data/FashionMNIST/raw/t10k-images-idx3-ubyte.gz\n"
          ]
        },
        {
          "output_type": "stream",
          "name": "stderr",
          "text": [
            "100%|██████████| 4.42M/4.42M [00:01<00:00, 3.72MB/s]\n"
          ]
        },
        {
          "output_type": "stream",
          "name": "stdout",
          "text": [
            "Extracting data/FashionMNIST/raw/t10k-images-idx3-ubyte.gz to data/FashionMNIST/raw\n",
            "\n",
            "Downloading http://fashion-mnist.s3-website.eu-central-1.amazonaws.com/t10k-labels-idx1-ubyte.gz\n",
            "Downloading http://fashion-mnist.s3-website.eu-central-1.amazonaws.com/t10k-labels-idx1-ubyte.gz to data/FashionMNIST/raw/t10k-labels-idx1-ubyte.gz\n"
          ]
        },
        {
          "output_type": "stream",
          "name": "stderr",
          "text": [
            "100%|██████████| 5.15k/5.15k [00:00<00:00, 11.0MB/s]"
          ]
        },
        {
          "output_type": "stream",
          "name": "stdout",
          "text": [
            "Extracting data/FashionMNIST/raw/t10k-labels-idx1-ubyte.gz to data/FashionMNIST/raw\n",
            "\n"
          ]
        },
        {
          "output_type": "stream",
          "name": "stderr",
          "text": [
            "\n"
          ]
        }
      ]
    },
    {
      "cell_type": "code",
      "source": [
        "train_data"
      ],
      "metadata": {
        "colab": {
          "base_uri": "https://localhost:8080/"
        },
        "id": "Ata_XGVSWU-n",
        "outputId": "6a96a6e7-9659-4b45-f315-e9c74741b0a5"
      },
      "execution_count": null,
      "outputs": [
        {
          "output_type": "execute_result",
          "data": {
            "text/plain": [
              "Dataset FashionMNIST\n",
              "    Number of datapoints: 60000\n",
              "    Root location: data\n",
              "    Split: Train\n",
              "    StandardTransform\n",
              "Transform: ToTensor()"
            ]
          },
          "metadata": {},
          "execution_count": 3
        }
      ]
    },
    {
      "cell_type": "code",
      "source": [
        "len(train_data),len(test_data)"
      ],
      "metadata": {
        "colab": {
          "base_uri": "https://localhost:8080/"
        },
        "id": "A-HnPMjPWba5",
        "outputId": "b778a8ff-a0d5-4241-b844-9a03feb10dea"
      },
      "execution_count": null,
      "outputs": [
        {
          "output_type": "execute_result",
          "data": {
            "text/plain": [
              "(60000, 10000)"
            ]
          },
          "metadata": {},
          "execution_count": 4
        }
      ]
    },
    {
      "cell_type": "code",
      "source": [
        "image , labels = train_data[0]\n",
        "image , labels"
      ],
      "metadata": {
        "colab": {
          "base_uri": "https://localhost:8080/"
        },
        "id": "2oc-_UPjXOzZ",
        "outputId": "626484cd-3f82-4d8e-aaa9-83186646ac45"
      },
      "execution_count": null,
      "outputs": [
        {
          "output_type": "execute_result",
          "data": {
            "text/plain": [
              "(tensor([[[0.0000, 0.0000, 0.0000, 0.0000, 0.0000, 0.0000, 0.0000, 0.0000,\n",
              "           0.0000, 0.0000, 0.0000, 0.0000, 0.0000, 0.0000, 0.0000, 0.0000,\n",
              "           0.0000, 0.0000, 0.0000, 0.0000, 0.0000, 0.0000, 0.0000, 0.0000,\n",
              "           0.0000, 0.0000, 0.0000, 0.0000],\n",
              "          [0.0000, 0.0000, 0.0000, 0.0000, 0.0000, 0.0000, 0.0000, 0.0000,\n",
              "           0.0000, 0.0000, 0.0000, 0.0000, 0.0000, 0.0000, 0.0000, 0.0000,\n",
              "           0.0000, 0.0000, 0.0000, 0.0000, 0.0000, 0.0000, 0.0000, 0.0000,\n",
              "           0.0000, 0.0000, 0.0000, 0.0000],\n",
              "          [0.0000, 0.0000, 0.0000, 0.0000, 0.0000, 0.0000, 0.0000, 0.0000,\n",
              "           0.0000, 0.0000, 0.0000, 0.0000, 0.0000, 0.0000, 0.0000, 0.0000,\n",
              "           0.0000, 0.0000, 0.0000, 0.0000, 0.0000, 0.0000, 0.0000, 0.0000,\n",
              "           0.0000, 0.0000, 0.0000, 0.0000],\n",
              "          [0.0000, 0.0000, 0.0000, 0.0000, 0.0000, 0.0000, 0.0000, 0.0000,\n",
              "           0.0000, 0.0000, 0.0000, 0.0000, 0.0039, 0.0000, 0.0000, 0.0510,\n",
              "           0.2863, 0.0000, 0.0000, 0.0039, 0.0157, 0.0000, 0.0000, 0.0000,\n",
              "           0.0000, 0.0039, 0.0039, 0.0000],\n",
              "          [0.0000, 0.0000, 0.0000, 0.0000, 0.0000, 0.0000, 0.0000, 0.0000,\n",
              "           0.0000, 0.0000, 0.0000, 0.0000, 0.0118, 0.0000, 0.1412, 0.5333,\n",
              "           0.4980, 0.2431, 0.2118, 0.0000, 0.0000, 0.0000, 0.0039, 0.0118,\n",
              "           0.0157, 0.0000, 0.0000, 0.0118],\n",
              "          [0.0000, 0.0000, 0.0000, 0.0000, 0.0000, 0.0000, 0.0000, 0.0000,\n",
              "           0.0000, 0.0000, 0.0000, 0.0000, 0.0235, 0.0000, 0.4000, 0.8000,\n",
              "           0.6902, 0.5255, 0.5647, 0.4824, 0.0902, 0.0000, 0.0000, 0.0000,\n",
              "           0.0000, 0.0471, 0.0392, 0.0000],\n",
              "          [0.0000, 0.0000, 0.0000, 0.0000, 0.0000, 0.0000, 0.0000, 0.0000,\n",
              "           0.0000, 0.0000, 0.0000, 0.0000, 0.0000, 0.0000, 0.6078, 0.9255,\n",
              "           0.8118, 0.6980, 0.4196, 0.6118, 0.6314, 0.4275, 0.2510, 0.0902,\n",
              "           0.3020, 0.5098, 0.2824, 0.0588],\n",
              "          [0.0000, 0.0000, 0.0000, 0.0000, 0.0000, 0.0000, 0.0000, 0.0000,\n",
              "           0.0000, 0.0000, 0.0000, 0.0039, 0.0000, 0.2706, 0.8118, 0.8745,\n",
              "           0.8549, 0.8471, 0.8471, 0.6392, 0.4980, 0.4745, 0.4784, 0.5725,\n",
              "           0.5529, 0.3451, 0.6745, 0.2588],\n",
              "          [0.0000, 0.0000, 0.0000, 0.0000, 0.0000, 0.0000, 0.0000, 0.0000,\n",
              "           0.0000, 0.0039, 0.0039, 0.0039, 0.0000, 0.7843, 0.9098, 0.9098,\n",
              "           0.9137, 0.8980, 0.8745, 0.8745, 0.8431, 0.8353, 0.6431, 0.4980,\n",
              "           0.4824, 0.7686, 0.8980, 0.0000],\n",
              "          [0.0000, 0.0000, 0.0000, 0.0000, 0.0000, 0.0000, 0.0000, 0.0000,\n",
              "           0.0000, 0.0000, 0.0000, 0.0000, 0.0000, 0.7176, 0.8824, 0.8471,\n",
              "           0.8745, 0.8941, 0.9216, 0.8902, 0.8784, 0.8706, 0.8784, 0.8667,\n",
              "           0.8745, 0.9608, 0.6784, 0.0000],\n",
              "          [0.0000, 0.0000, 0.0000, 0.0000, 0.0000, 0.0000, 0.0000, 0.0000,\n",
              "           0.0000, 0.0000, 0.0000, 0.0000, 0.0000, 0.7569, 0.8941, 0.8549,\n",
              "           0.8353, 0.7765, 0.7059, 0.8314, 0.8235, 0.8275, 0.8353, 0.8745,\n",
              "           0.8627, 0.9529, 0.7922, 0.0000],\n",
              "          [0.0000, 0.0000, 0.0000, 0.0000, 0.0000, 0.0000, 0.0000, 0.0000,\n",
              "           0.0000, 0.0039, 0.0118, 0.0000, 0.0471, 0.8588, 0.8627, 0.8314,\n",
              "           0.8549, 0.7529, 0.6627, 0.8902, 0.8157, 0.8549, 0.8784, 0.8314,\n",
              "           0.8863, 0.7725, 0.8196, 0.2039],\n",
              "          [0.0000, 0.0000, 0.0000, 0.0000, 0.0000, 0.0000, 0.0000, 0.0000,\n",
              "           0.0000, 0.0000, 0.0235, 0.0000, 0.3882, 0.9569, 0.8706, 0.8627,\n",
              "           0.8549, 0.7961, 0.7765, 0.8667, 0.8431, 0.8353, 0.8706, 0.8627,\n",
              "           0.9608, 0.4667, 0.6549, 0.2196],\n",
              "          [0.0000, 0.0000, 0.0000, 0.0000, 0.0000, 0.0000, 0.0000, 0.0000,\n",
              "           0.0000, 0.0157, 0.0000, 0.0000, 0.2157, 0.9255, 0.8941, 0.9020,\n",
              "           0.8941, 0.9412, 0.9098, 0.8353, 0.8549, 0.8745, 0.9176, 0.8510,\n",
              "           0.8510, 0.8196, 0.3608, 0.0000],\n",
              "          [0.0000, 0.0000, 0.0039, 0.0157, 0.0235, 0.0275, 0.0078, 0.0000,\n",
              "           0.0000, 0.0000, 0.0000, 0.0000, 0.9294, 0.8863, 0.8510, 0.8745,\n",
              "           0.8706, 0.8588, 0.8706, 0.8667, 0.8471, 0.8745, 0.8980, 0.8431,\n",
              "           0.8549, 1.0000, 0.3020, 0.0000],\n",
              "          [0.0000, 0.0118, 0.0000, 0.0000, 0.0000, 0.0000, 0.0000, 0.0000,\n",
              "           0.0000, 0.2431, 0.5686, 0.8000, 0.8941, 0.8118, 0.8353, 0.8667,\n",
              "           0.8549, 0.8157, 0.8275, 0.8549, 0.8784, 0.8745, 0.8588, 0.8431,\n",
              "           0.8784, 0.9569, 0.6235, 0.0000],\n",
              "          [0.0000, 0.0000, 0.0000, 0.0000, 0.0706, 0.1725, 0.3216, 0.4196,\n",
              "           0.7412, 0.8941, 0.8627, 0.8706, 0.8510, 0.8863, 0.7843, 0.8039,\n",
              "           0.8275, 0.9020, 0.8784, 0.9176, 0.6902, 0.7373, 0.9804, 0.9725,\n",
              "           0.9137, 0.9333, 0.8431, 0.0000],\n",
              "          [0.0000, 0.2235, 0.7333, 0.8157, 0.8784, 0.8667, 0.8784, 0.8157,\n",
              "           0.8000, 0.8392, 0.8157, 0.8196, 0.7843, 0.6235, 0.9608, 0.7569,\n",
              "           0.8078, 0.8745, 1.0000, 1.0000, 0.8667, 0.9176, 0.8667, 0.8275,\n",
              "           0.8627, 0.9098, 0.9647, 0.0000],\n",
              "          [0.0118, 0.7922, 0.8941, 0.8784, 0.8667, 0.8275, 0.8275, 0.8392,\n",
              "           0.8039, 0.8039, 0.8039, 0.8627, 0.9412, 0.3137, 0.5882, 1.0000,\n",
              "           0.8980, 0.8667, 0.7373, 0.6039, 0.7490, 0.8235, 0.8000, 0.8196,\n",
              "           0.8706, 0.8941, 0.8824, 0.0000],\n",
              "          [0.3843, 0.9137, 0.7765, 0.8235, 0.8706, 0.8980, 0.8980, 0.9176,\n",
              "           0.9765, 0.8627, 0.7608, 0.8431, 0.8510, 0.9451, 0.2549, 0.2863,\n",
              "           0.4157, 0.4588, 0.6588, 0.8588, 0.8667, 0.8431, 0.8510, 0.8745,\n",
              "           0.8745, 0.8784, 0.8980, 0.1137],\n",
              "          [0.2941, 0.8000, 0.8314, 0.8000, 0.7569, 0.8039, 0.8275, 0.8824,\n",
              "           0.8471, 0.7255, 0.7725, 0.8078, 0.7765, 0.8353, 0.9412, 0.7647,\n",
              "           0.8902, 0.9608, 0.9373, 0.8745, 0.8549, 0.8314, 0.8196, 0.8706,\n",
              "           0.8627, 0.8667, 0.9020, 0.2627],\n",
              "          [0.1882, 0.7961, 0.7176, 0.7608, 0.8353, 0.7725, 0.7255, 0.7451,\n",
              "           0.7608, 0.7529, 0.7922, 0.8392, 0.8588, 0.8667, 0.8627, 0.9255,\n",
              "           0.8824, 0.8471, 0.7804, 0.8078, 0.7294, 0.7098, 0.6941, 0.6745,\n",
              "           0.7098, 0.8039, 0.8078, 0.4510],\n",
              "          [0.0000, 0.4784, 0.8588, 0.7569, 0.7020, 0.6706, 0.7176, 0.7686,\n",
              "           0.8000, 0.8235, 0.8353, 0.8118, 0.8275, 0.8235, 0.7843, 0.7686,\n",
              "           0.7608, 0.7490, 0.7647, 0.7490, 0.7765, 0.7529, 0.6902, 0.6118,\n",
              "           0.6549, 0.6941, 0.8235, 0.3608],\n",
              "          [0.0000, 0.0000, 0.2902, 0.7412, 0.8314, 0.7490, 0.6863, 0.6745,\n",
              "           0.6863, 0.7098, 0.7255, 0.7373, 0.7412, 0.7373, 0.7569, 0.7765,\n",
              "           0.8000, 0.8196, 0.8235, 0.8235, 0.8275, 0.7373, 0.7373, 0.7608,\n",
              "           0.7529, 0.8471, 0.6667, 0.0000],\n",
              "          [0.0078, 0.0000, 0.0000, 0.0000, 0.2588, 0.7843, 0.8706, 0.9294,\n",
              "           0.9373, 0.9490, 0.9647, 0.9529, 0.9569, 0.8667, 0.8627, 0.7569,\n",
              "           0.7490, 0.7020, 0.7137, 0.7137, 0.7098, 0.6902, 0.6510, 0.6588,\n",
              "           0.3882, 0.2275, 0.0000, 0.0000],\n",
              "          [0.0000, 0.0000, 0.0000, 0.0000, 0.0000, 0.0000, 0.0000, 0.1569,\n",
              "           0.2392, 0.1725, 0.2824, 0.1608, 0.1373, 0.0000, 0.0000, 0.0000,\n",
              "           0.0000, 0.0000, 0.0000, 0.0000, 0.0000, 0.0000, 0.0000, 0.0000,\n",
              "           0.0000, 0.0000, 0.0000, 0.0000],\n",
              "          [0.0000, 0.0000, 0.0000, 0.0000, 0.0000, 0.0000, 0.0000, 0.0000,\n",
              "           0.0000, 0.0000, 0.0000, 0.0000, 0.0000, 0.0000, 0.0000, 0.0000,\n",
              "           0.0000, 0.0000, 0.0000, 0.0000, 0.0000, 0.0000, 0.0000, 0.0000,\n",
              "           0.0000, 0.0000, 0.0000, 0.0000],\n",
              "          [0.0000, 0.0000, 0.0000, 0.0000, 0.0000, 0.0000, 0.0000, 0.0000,\n",
              "           0.0000, 0.0000, 0.0000, 0.0000, 0.0000, 0.0000, 0.0000, 0.0000,\n",
              "           0.0000, 0.0000, 0.0000, 0.0000, 0.0000, 0.0000, 0.0000, 0.0000,\n",
              "           0.0000, 0.0000, 0.0000, 0.0000]]]),\n",
              " 9)"
            ]
          },
          "metadata": {},
          "execution_count": 5
        }
      ]
    },
    {
      "cell_type": "code",
      "source": [
        "class_names = train_data.classes\n",
        "class_names"
      ],
      "metadata": {
        "colab": {
          "base_uri": "https://localhost:8080/"
        },
        "id": "rmpVXodFXsB4",
        "outputId": "75e318ba-1288-474b-dbf1-a33efd77bfef"
      },
      "execution_count": null,
      "outputs": [
        {
          "output_type": "execute_result",
          "data": {
            "text/plain": [
              "['T-shirt/top',\n",
              " 'Trouser',\n",
              " 'Pullover',\n",
              " 'Dress',\n",
              " 'Coat',\n",
              " 'Sandal',\n",
              " 'Shirt',\n",
              " 'Sneaker',\n",
              " 'Bag',\n",
              " 'Ankle boot']"
            ]
          },
          "metadata": {},
          "execution_count": 6
        }
      ]
    },
    {
      "cell_type": "code",
      "source": [
        "class_to_idx = train_data.class_to_idx\n",
        "class_to_idx"
      ],
      "metadata": {
        "colab": {
          "base_uri": "https://localhost:8080/"
        },
        "id": "IyxxQINDX28V",
        "outputId": "fa83cc20-8d8f-4d96-be5e-0fb5ebef9ea8"
      },
      "execution_count": null,
      "outputs": [
        {
          "output_type": "execute_result",
          "data": {
            "text/plain": [
              "{'T-shirt/top': 0,\n",
              " 'Trouser': 1,\n",
              " 'Pullover': 2,\n",
              " 'Dress': 3,\n",
              " 'Coat': 4,\n",
              " 'Sandal': 5,\n",
              " 'Shirt': 6,\n",
              " 'Sneaker': 7,\n",
              " 'Bag': 8,\n",
              " 'Ankle boot': 9}"
            ]
          },
          "metadata": {},
          "execution_count": 7
        }
      ]
    },
    {
      "cell_type": "code",
      "source": [
        "train_data.targets\n"
      ],
      "metadata": {
        "colab": {
          "base_uri": "https://localhost:8080/"
        },
        "id": "ePoBDJg5YJK9",
        "outputId": "fbdb9a54-0442-4dfe-8133-bb2355627eaa"
      },
      "execution_count": null,
      "outputs": [
        {
          "output_type": "execute_result",
          "data": {
            "text/plain": [
              "tensor([9, 0, 0,  ..., 3, 0, 5])"
            ]
          },
          "metadata": {},
          "execution_count": 8
        }
      ]
    },
    {
      "cell_type": "code",
      "source": [
        "image.shape##color channels, height ,width"
      ],
      "metadata": {
        "colab": {
          "base_uri": "https://localhost:8080/"
        },
        "id": "MfpZ7RKlYijs",
        "outputId": "fc916b28-7fdb-469b-e4a8-d113a3be6acd"
      },
      "execution_count": null,
      "outputs": [
        {
          "output_type": "execute_result",
          "data": {
            "text/plain": [
              "torch.Size([1, 28, 28])"
            ]
          },
          "metadata": {},
          "execution_count": 9
        }
      ]
    },
    {
      "cell_type": "code",
      "source": [
        "labels"
      ],
      "metadata": {
        "colab": {
          "base_uri": "https://localhost:8080/"
        },
        "id": "Kb_OhHvKYrXm",
        "outputId": "1847f2c5-10f7-45bd-fc7d-fc6ff1ead1f1"
      },
      "execution_count": null,
      "outputs": [
        {
          "output_type": "execute_result",
          "data": {
            "text/plain": [
              "9"
            ]
          },
          "metadata": {},
          "execution_count": 10
        }
      ]
    },
    {
      "cell_type": "code",
      "source": [
        "class_names[labels]"
      ],
      "metadata": {
        "colab": {
          "base_uri": "https://localhost:8080/",
          "height": 36
        },
        "id": "rHywJLcRZBjm",
        "outputId": "b57bb185-0fdc-4e7b-faa6-1dcfacbd4278"
      },
      "execution_count": null,
      "outputs": [
        {
          "output_type": "execute_result",
          "data": {
            "text/plain": [
              "'Ankle boot'"
            ],
            "application/vnd.google.colaboratory.intrinsic+json": {
              "type": "string"
            }
          },
          "metadata": {},
          "execution_count": 11
        }
      ]
    },
    {
      "cell_type": "code",
      "source": [
        "class_names[0]"
      ],
      "metadata": {
        "colab": {
          "base_uri": "https://localhost:8080/",
          "height": 36
        },
        "id": "Vq_HBONWZDvx",
        "outputId": "4385f1eb-8fa1-4d1c-8784-bdad6703d7aa"
      },
      "execution_count": null,
      "outputs": [
        {
          "output_type": "execute_result",
          "data": {
            "text/plain": [
              "'T-shirt/top'"
            ],
            "application/vnd.google.colaboratory.intrinsic+json": {
              "type": "string"
            }
          },
          "metadata": {},
          "execution_count": 12
        }
      ]
    },
    {
      "cell_type": "code",
      "source": [
        "##visualising our data\n",
        "import matplotlib.pyplot as plt\n",
        "image , labels = train_data[0]\n",
        "print(image.shape)\n",
        "plt.imshow(image.squeeze(),cmap=\"gray\")\n",
        "plt.title(class_names[labels])\n",
        "plt.axis(False)"
      ],
      "metadata": {
        "colab": {
          "base_uri": "https://localhost:8080/",
          "height": 464
        },
        "id": "nETP51GJZFwF",
        "outputId": "ebd80e12-9af7-451b-8384-f884e3dcaef1"
      },
      "execution_count": null,
      "outputs": [
        {
          "output_type": "stream",
          "name": "stdout",
          "text": [
            "torch.Size([1, 28, 28])\n"
          ]
        },
        {
          "output_type": "execute_result",
          "data": {
            "text/plain": [
              "(-0.5, 27.5, 27.5, -0.5)"
            ]
          },
          "metadata": {},
          "execution_count": 13
        },
        {
          "output_type": "display_data",
          "data": {
            "text/plain": [
              "<Figure size 640x480 with 1 Axes>"
            ],
            "image/png": "[encoded data removed]"
          },
          "metadata": {}
        }
      ]
    },
    {
      "cell_type": "code",
      "source": [
        "#plot more images\n",
        "torch.manual_seed(42)\n",
        "fig = plt.figure(figsize=(9,9))\n",
        "rows , cols = 4,4\n",
        "for i in range(1,rows*cols+1):\n",
        "    random_idx = torch.randint(0,len(train_data),(1,)).item()\n",
        "    image, labels = train_data[random_idx]\n",
        "    fig.add_subplot(rows,cols,i)\n",
        "    plt.imshow(image.squeeze(),cmap=\"gray\")\n",
        "    plt.title(class_names[labels])\n",
        "    plt.axis(False)"
      ],
      "metadata": {
        "colab": {
          "base_uri": "https://localhost:8080/",
          "height": 752
        },
        "id": "r2sLlJPtaG0I",
        "outputId": "464a0521-b1d4-4653-ae79-7ca4d8dd11d4"
      },
      "execution_count": null,
      "outputs": [
        {
          "output_type": "display_data",
          "data": {
            "text/plain": [
              "<Figure size 900x900 with 16 Axes>"
            ],
            "image/png": "[encoded data removed]"
          },
          "metadata": {}
        }
      ]
    },
    {
      "source": [
        "##prepare dataloader\n",
        "from torch.utils.data import DataLoader # Changed 'dataloader' to 'DataLoader'\n",
        "#setup the batch size i.e. making a sample of 32 out of 1000population size\n",
        "BATCH_SIZE = 32\n",
        "#turn datasets into batches\n",
        "train_dataloader = DataLoader(dataset =train_data,batch_size=BATCH_SIZE,shuffle=True) # Changed 'dataLoader' to 'DataLoader'\n",
        "test_dataloader = DataLoader(dataset = test_data,batch_size=BATCH_SIZE,shuffle=False) # Changed 'dataLoader' to 'DataLoader'"
      ],
      "cell_type": "code",
      "metadata": {
        "id": "62qcJ44_xCdy"
      },
      "execution_count": null,
      "outputs": []
    },
    {
      "cell_type": "code",
      "source": [
        "train_dataloader,test_dataloader"
      ],
      "metadata": {
        "colab": {
          "base_uri": "https://localhost:8080/"
        },
        "id": "FgRm1zIewuyF",
        "outputId": "dd623528-4302-48a8-ae22-9322cee5df55"
      },
      "execution_count": null,
      "outputs": [
        {
          "output_type": "execute_result",
          "data": {
            "text/plain": [
              "(<torch.utils.data.dataloader.DataLoader at 0x7e9e6582dd90>,\n",
              " <torch.utils.data.dataloader.DataLoader at 0x7e9e658818d0>)"
            ]
          },
          "metadata": {},
          "execution_count": 16
        }
      ]
    },
    {
      "cell_type": "code",
      "source": [
        "len(train_dataloader)"
      ],
      "metadata": {
        "colab": {
          "base_uri": "https://localhost:8080/"
        },
        "id": "zkqQ4ld_xfUY",
        "outputId": "382584a9-cf3f-4630-ad3f-fc6166810fac"
      },
      "execution_count": null,
      "outputs": [
        {
          "output_type": "execute_result",
          "data": {
            "text/plain": [
              "1875"
            ]
          },
          "metadata": {},
          "execution_count": 17
        }
      ]
    },
    {
      "cell_type": "code",
      "source": [
        "len(test_dataloader)"
      ],
      "metadata": {
        "colab": {
          "base_uri": "https://localhost:8080/"
        },
        "id": "uqP9TDkgxztx",
        "outputId": "04f7ba6f-21b0-46e9-9594-0dd6942db0d2"
      },
      "execution_count": null,
      "outputs": [
        {
          "output_type": "execute_result",
          "data": {
            "text/plain": [
              "313"
            ]
          },
          "metadata": {},
          "execution_count": 18
        }
      ]
    },
    {
      "cell_type": "code",
      "source": [
        "#check out whats inside the train dataloader\n",
        "train_features_batch , train_labels_batch = next(iter(train_dataloader))\n",
        "train_features_batch.shape , train_labels_batch.shape"
      ],
      "metadata": {
        "colab": {
          "base_uri": "https://localhost:8080/"
        },
        "id": "U99ev_nvx18S",
        "outputId": "0855a669-3795-4de8-e5f8-2bdfebc54836"
      },
      "execution_count": null,
      "outputs": [
        {
          "output_type": "execute_result",
          "data": {
            "text/plain": [
              "(torch.Size([32, 1, 28, 28]), torch.Size([32]))"
            ]
          },
          "metadata": {},
          "execution_count": 19
        }
      ]
    },
    {
      "cell_type": "code",
      "source": [
        "#show the sample\n",
        "#torch.manual_seed(42)\n",
        "random_idx = torch.randint(0,len(train_features_batch),size = [1]  ).item()\n",
        "img , labels = train_features_batch[random_idx] , train_labels_batch[random_idx]\n",
        "plt.imshow(img.squeeze(),cmap=\"gray\")\n",
        "plt.title(class_names[labels])\n",
        "plt.axis(False)"
      ],
      "metadata": {
        "colab": {
          "base_uri": "https://localhost:8080/",
          "height": 446
        },
        "id": "OQWL5zJZyrfU",
        "outputId": "0a9a25f3-54cb-4659-90bd-a936de828806"
      },
      "execution_count": null,
      "outputs": [
        {
          "output_type": "execute_result",
          "data": {
            "text/plain": [
              "(-0.5, 27.5, 27.5, -0.5)"
            ]
          },
          "metadata": {},
          "execution_count": 20
        },
        {
          "output_type": "display_data",
          "data": {
            "text/plain": [
              "<Figure size 640x480 with 1 Axes>"
            ],
            "image/png": "[encoded data removed]"
          },
          "metadata": {}
        }
      ]
    },
    {
      "cell_type": "code",
      "source": [
        "##Buuild a model using computer vision\n",
        "##create the flatten layer\n",
        "flaten_model = nn.Flatten()\n",
        "\n",
        "\n",
        "#Get a single sample\n",
        "X = train_features_batch[0]\n",
        "X"
      ],
      "metadata": {
        "colab": {
          "base_uri": "https://localhost:8080/"
        },
        "id": "lPVo9gRnzTJM",
        "outputId": "f2aa0ae9-f50d-403d-d5db-7afb6e25f751"
      },
      "execution_count": null,
      "outputs": [
        {
          "output_type": "execute_result",
          "data": {
            "text/plain": [
              "tensor([[[0.0000, 0.0000, 0.0000, 0.0000, 0.0000, 0.0000, 0.0000, 0.0000,\n",
              "          0.0000, 0.0000, 0.0000, 0.0000, 0.0000, 0.0000, 0.0000, 0.0000,\n",
              "          0.0000, 0.0000, 0.0000, 0.0000, 0.0000, 0.0000, 0.0000, 0.0000,\n",
              "          0.0000, 0.0000, 0.0000, 0.0000],\n",
              "         [0.0000, 0.0000, 0.0000, 0.0000, 0.0000, 0.0000, 0.0000, 0.0000,\n",
              "          0.0000, 0.0000, 0.0000, 0.0000, 0.0000, 0.0000, 0.0000, 0.0000,\n",
              "          0.0000, 0.0000, 0.0000, 0.0000, 0.0000, 0.0000, 0.0000, 0.0000,\n",
              "          0.0000, 0.0000, 0.0000, 0.0000],\n",
              "         [0.0000, 0.0000, 0.0000, 0.0000, 0.0000, 0.0000, 0.0000, 0.0000,\n",
              "          0.0000, 0.0000, 0.0000, 0.0000, 0.0000, 0.0000, 0.0000, 0.0000,\n",
              "          0.0000, 0.0000, 0.0000, 0.0000, 0.0000, 0.0000, 0.0000, 0.0000,\n",
              "          0.0000, 0.0000, 0.0000, 0.0000],\n",
              "         [0.0000, 0.0000, 0.0000, 0.0000, 0.0000, 0.0000, 0.0000, 0.0000,\n",
              "          0.0000, 0.0039, 0.0039, 0.0000, 0.0000, 0.0078, 0.0078, 0.0000,\n",
              "          0.0000, 0.0039, 0.0078, 0.0000, 0.0000, 0.0000, 0.0000, 0.0000,\n",
              "          0.2863, 0.0000, 0.0000, 0.0078],\n",
              "         [0.0000, 0.0000, 0.0000, 0.0000, 0.0000, 0.0000, 0.0000, 0.0000,\n",
              "          0.0000, 0.0000, 0.0000, 0.0000, 0.0000, 0.0000, 0.0000, 0.0000,\n",
              "          0.0000, 0.0000, 0.0000, 0.0000, 0.0000, 0.0000, 0.0000, 0.0000,\n",
              "          0.3725, 0.0000, 0.0000, 0.0000],\n",
              "         [0.0000, 0.0000, 0.0000, 0.0000, 0.0000, 0.0000, 0.0000, 0.0000,\n",
              "          0.0000, 0.0000, 0.0000, 0.0000, 0.0000, 0.3373, 0.3569, 0.2039,\n",
              "          0.4980, 0.4196, 0.4706, 0.3608, 0.3961, 0.4706, 0.4471, 1.0000,\n",
              "          0.4314, 0.3451, 0.0078, 0.0000],\n",
              "         [0.0000, 0.0000, 0.0000, 0.0000, 0.0000, 0.0000, 0.0000, 0.0000,\n",
              "          0.0000, 0.0000, 0.0000, 0.0000, 0.0000, 0.0706, 0.0824, 0.0706,\n",
              "          0.4588, 0.4118, 0.4980, 0.2588, 0.2235, 0.2588, 0.0824, 0.0510,\n",
              "          0.1922, 0.5137, 0.5765, 0.0000],\n",
              "         [0.0000, 0.0000, 0.0000, 0.0000, 0.0000, 0.0000, 0.0000, 0.0000,\n",
              "          0.0000, 0.0000, 0.0000, 0.0000, 0.0000, 0.0000, 0.0000, 0.0000,\n",
              "          0.0000, 0.0000, 0.0000, 0.0000, 0.0000, 0.0000, 0.0000, 0.1333,\n",
              "          0.8000, 0.5608, 0.5255, 0.2431],\n",
              "         [0.0000, 0.0000, 0.0000, 0.0000, 0.0000, 0.0000, 0.0000, 0.0000,\n",
              "          0.0000, 0.0000, 0.0000, 0.0000, 0.0000, 0.0039, 0.0039, 0.0000,\n",
              "          0.0000, 0.0000, 0.0000, 0.0078, 0.0000, 0.0000, 0.0000, 0.9137,\n",
              "          0.9686, 0.5137, 0.4353, 0.6471],\n",
              "         [0.0000, 0.0000, 0.0000, 0.0000, 0.0000, 0.0000, 0.0000, 0.0000,\n",
              "          0.0000, 0.0000, 0.0000, 0.0000, 0.0000, 0.0000, 0.0000, 0.0000,\n",
              "          0.0000, 0.0000, 0.0000, 0.0000, 0.0000, 0.0000, 0.0588, 0.3843,\n",
              "          0.6980, 0.0588, 0.2824, 0.1686],\n",
              "         [0.0000, 0.0000, 0.0000, 0.0000, 0.0000, 0.0000, 0.0000, 0.0000,\n",
              "          0.0000, 0.0000, 0.0000, 0.0000, 0.0000, 0.0000, 0.0000, 0.0000,\n",
              "          0.0000, 0.0000, 0.0000, 0.0000, 0.0000, 0.1333, 0.2078, 0.2157,\n",
              "          0.6745, 0.2941, 0.1059, 0.0000],\n",
              "         [0.0000, 0.0000, 0.0000, 0.0000, 0.0000, 0.0000, 0.0000, 0.0000,\n",
              "          0.0000, 0.0000, 0.0000, 0.0000, 0.0000, 0.0000, 0.0000, 0.0000,\n",
              "          0.0000, 0.0000, 0.0039, 0.0000, 0.0078, 0.3333, 0.2980, 0.2941,\n",
              "          0.2039, 0.0314, 0.0000, 0.0000],\n",
              "         [0.0000, 0.0000, 0.0000, 0.0000, 0.0000, 0.0000, 0.0000, 0.0000,\n",
              "          0.0000, 0.0000, 0.0000, 0.0000, 0.0000, 0.0000, 0.0000, 0.0000,\n",
              "          0.0000, 0.0039, 0.0039, 0.0000, 0.2196, 0.5020, 0.0157, 0.0706,\n",
              "          0.3451, 0.3216, 0.0588, 0.0000],\n",
              "         [0.0000, 0.0000, 0.0000, 0.0000, 0.0000, 0.0000, 0.0000, 0.0000,\n",
              "          0.0000, 0.0000, 0.0000, 0.0000, 0.0000, 0.0000, 0.0000, 0.0000,\n",
              "          0.0000, 0.0000, 0.0000, 0.0157, 0.4863, 0.3843, 0.1804, 0.6235,\n",
              "          0.7882, 0.6000, 0.1569, 0.0000],\n",
              "         [0.0000, 0.0000, 0.0000, 0.0000, 0.0000, 0.0000, 0.0000, 0.0000,\n",
              "          0.0000, 0.0000, 0.0000, 0.0000, 0.0000, 0.0000, 0.0000, 0.0000,\n",
              "          0.0000, 0.0000, 0.0000, 0.2863, 0.4431, 0.4196, 0.5882, 0.5020,\n",
              "          0.1020, 0.2235, 0.0549, 0.0000],\n",
              "         [0.0000, 0.0000, 0.0000, 0.0000, 0.0000, 0.0000, 0.0000, 0.0000,\n",
              "          0.0000, 0.0000, 0.0000, 0.0000, 0.0000, 0.0000, 0.0000, 0.0000,\n",
              "          0.0000, 0.0000, 0.0039, 0.4078, 0.4314, 0.7137, 0.1843, 0.2196,\n",
              "          0.4118, 0.3216, 0.0196, 0.0000],\n",
              "         [0.0000, 0.0000, 0.0000, 0.0000, 0.0039, 0.0000, 0.0000, 0.0000,\n",
              "          0.0000, 0.0000, 0.0000, 0.0000, 0.0000, 0.0000, 0.0000, 0.0000,\n",
              "          0.0000, 0.0000, 0.2549, 0.5647, 0.6275, 0.0824, 0.0000, 0.0000,\n",
              "          0.5098, 0.3333, 0.0000, 0.0000],\n",
              "         [0.0000, 0.0000, 0.0000, 0.0000, 0.0000, 0.0000, 0.0039, 0.0039,\n",
              "          0.0000, 0.0000, 0.0000, 0.0000, 0.0000, 0.0000, 0.0000, 0.0000,\n",
              "          0.0000, 0.3333, 0.5647, 0.5529, 0.0000, 0.0000, 0.0000, 0.0000,\n",
              "          0.6510, 0.3059, 0.0000, 0.0000],\n",
              "         [0.0000, 0.0000, 0.0000, 0.0000, 0.0000, 0.0000, 0.0000, 0.0000,\n",
              "          0.0000, 0.0000, 0.0000, 0.0000, 0.0000, 0.0000, 0.0000, 0.0000,\n",
              "          0.1922, 0.7216, 0.4510, 0.0000, 0.0000, 0.0157, 0.0000, 0.0000,\n",
              "          0.6275, 0.2667, 0.0000, 0.0000],\n",
              "         [0.0000, 0.0000, 0.0000, 0.0039, 0.0000, 0.0000, 0.0784, 0.0784,\n",
              "          0.0000, 0.0000, 0.0000, 0.0000, 0.0000, 0.0000, 0.0000, 0.0706,\n",
              "          0.6392, 0.3804, 0.0000, 0.0000, 0.0000, 0.0314, 0.0000, 0.0000,\n",
              "          0.6667, 0.1529, 0.0000, 0.0000],\n",
              "         [0.0000, 0.0000, 0.0039, 0.0000, 0.0314, 0.2471, 0.2980, 0.1686,\n",
              "          0.0000, 0.0000, 0.0000, 0.0000, 0.0000, 0.0000, 0.0000, 0.5255,\n",
              "          0.5333, 0.0000, 0.0000, 0.0000, 0.0000, 0.0078, 0.0000, 0.0000,\n",
              "          0.6784, 0.0706, 0.0000, 0.0039],\n",
              "         [0.0039, 0.0039, 0.0000, 0.0000, 0.0706, 0.0941, 0.0000, 0.0196,\n",
              "          0.0000, 0.0000, 0.0000, 0.0000, 0.0000, 0.0000, 0.3451, 0.7137,\n",
              "          0.0275, 0.0000, 0.0000, 0.0000, 0.0000, 0.0000, 0.0000, 0.0000,\n",
              "          0.6588, 0.0039, 0.0000, 0.0039],\n",
              "         [0.0000, 0.0000, 0.0000, 0.0000, 0.0078, 0.1922, 0.1059, 0.1216,\n",
              "          0.2196, 0.0667, 0.0000, 0.0000, 0.0000, 0.3451, 0.6000, 0.1922,\n",
              "          0.0000, 0.0196, 0.0000, 0.0039, 0.0000, 0.0000, 0.0000, 0.0000,\n",
              "          0.6471, 0.0000, 0.0000, 0.0039],\n",
              "         [0.0510, 0.0275, 0.0000, 0.0000, 0.0000, 0.3294, 0.3804, 0.4000,\n",
              "          0.4941, 0.3882, 0.0000, 0.0196, 0.5020, 0.6000, 0.2863, 0.0000,\n",
              "          0.0000, 0.0000, 0.0000, 0.0000, 0.0000, 0.0000, 0.0000, 0.0039,\n",
              "          0.5451, 0.0000, 0.0000, 0.0000],\n",
              "         [0.3176, 0.5961, 0.5725, 0.5490, 0.4863, 0.4824, 0.5098, 0.4941,\n",
              "          0.4431, 0.4431, 0.4471, 0.7216, 0.6235, 0.1647, 0.0000, 0.0000,\n",
              "          0.0000, 0.0078, 0.0000, 0.0000, 0.0000, 0.0000, 0.0000, 0.0000,\n",
              "          0.7294, 0.0000, 0.0000, 0.0039],\n",
              "         [0.0000, 0.0000, 0.0000, 0.0941, 0.1647, 0.1804, 0.2235, 0.2549,\n",
              "          0.2706, 0.2549, 0.2471, 0.1569, 0.0000, 0.0000, 0.0000, 0.0000,\n",
              "          0.0000, 0.0000, 0.0000, 0.0000, 0.0000, 0.0000, 0.0000, 0.0000,\n",
              "          0.7137, 0.0157, 0.0000, 0.0039],\n",
              "         [0.0000, 0.0000, 0.0000, 0.0000, 0.0000, 0.0000, 0.0000, 0.0000,\n",
              "          0.0000, 0.0000, 0.0000, 0.0000, 0.0000, 0.0000, 0.0000, 0.0000,\n",
              "          0.0000, 0.0000, 0.0000, 0.0000, 0.0000, 0.0000, 0.0000, 0.0000,\n",
              "          0.0000, 0.0000, 0.0000, 0.0000],\n",
              "         [0.0000, 0.0000, 0.0000, 0.0000, 0.0000, 0.0000, 0.0000, 0.0000,\n",
              "          0.0000, 0.0000, 0.0000, 0.0000, 0.0000, 0.0000, 0.0000, 0.0000,\n",
              "          0.0000, 0.0000, 0.0000, 0.0000, 0.0000, 0.0000, 0.0000, 0.0000,\n",
              "          0.0000, 0.0000, 0.0000, 0.0000]]])"
            ]
          },
          "metadata": {},
          "execution_count": 21
        }
      ]
    },
    {
      "cell_type": "code",
      "source": [
        "X.shape"
      ],
      "metadata": {
        "colab": {
          "base_uri": "https://localhost:8080/"
        },
        "id": "tNrUYkhL3CKv",
        "outputId": "54a853bf-3624-46f3-bc86-66d4ecbdae28"
      },
      "execution_count": null,
      "outputs": [
        {
          "output_type": "execute_result",
          "data": {
            "text/plain": [
              "torch.Size([1, 28, 28])"
            ]
          },
          "metadata": {},
          "execution_count": 22
        }
      ]
    },
    {
      "cell_type": "code",
      "source": [
        "##Flatten the sample\n",
        "output = flaten_model(X)\n",
        "print(f\"shape before flatting{X.shape } and shape after flatning {output.shape}\")"
      ],
      "metadata": {
        "colab": {
          "base_uri": "https://localhost:8080/"
        },
        "id": "iNzBt90H3I0f",
        "outputId": "2663ee3f-f92f-41a9-9627-f769231180bc"
      },
      "execution_count": null,
      "outputs": [
        {
          "output_type": "stream",
          "name": "stdout",
          "text": [
            "shape before flattingtorch.Size([1, 28, 28]) and shape after flatning torch.Size([1, 784])\n"
          ]
        }
      ]
    },
    {
      "cell_type": "code",
      "source": [
        "output.squeeze()"
      ],
      "metadata": {
        "colab": {
          "base_uri": "https://localhost:8080/"
        },
        "id": "iPg0CxTt3tC_",
        "outputId": "f53ffcfc-b19c-4eac-90bb-6207656f8310"
      },
      "execution_count": null,
      "outputs": [
        {
          "output_type": "execute_result",
          "data": {
            "text/plain": [
              "tensor([0.0000, 0.0000, 0.0000, 0.0000, 0.0000, 0.0000, 0.0000, 0.0000, 0.0000,\n",
              "        0.0000, 0.0000, 0.0000, 0.0000, 0.0000, 0.0000, 0.0000, 0.0000, 0.0000,\n",
              "        0.0000, 0.0000, 0.0000, 0.0000, 0.0000, 0.0000, 0.0000, 0.0000, 0.0000,\n",
              "        0.0000, 0.0000, 0.0000, 0.0000, 0.0000, 0.0000, 0.0000, 0.0000, 0.0000,\n",
              "        0.0000, 0.0000, 0.0000, 0.0000, 0.0000, 0.0000, 0.0000, 0.0000, 0.0000,\n",
              "        0.0000, 0.0000, 0.0000, 0.0000, 0.0000, 0.0000, 0.0000, 0.0000, 0.0000,\n",
              "        0.0000, 0.0000, 0.0000, 0.0000, 0.0000, 0.0000, 0.0000, 0.0000, 0.0000,\n",
              "        0.0000, 0.0000, 0.0000, 0.0000, 0.0000, 0.0000, 0.0000, 0.0000, 0.0000,\n",
              "        0.0000, 0.0000, 0.0000, 0.0000, 0.0000, 0.0000, 0.0000, 0.0000, 0.0000,\n",
              "        0.0000, 0.0000, 0.0000, 0.0000, 0.0000, 0.0000, 0.0000, 0.0000, 0.0000,\n",
              "        0.0000, 0.0000, 0.0000, 0.0039, 0.0039, 0.0000, 0.0000, 0.0078, 0.0078,\n",
              "        0.0000, 0.0000, 0.0039, 0.0078, 0.0000, 0.0000, 0.0000, 0.0000, 0.0000,\n",
              "        0.2863, 0.0000, 0.0000, 0.0078, 0.0000, 0.0000, 0.0000, 0.0000, 0.0000,\n",
              "        0.0000, 0.0000, 0.0000, 0.0000, 0.0000, 0.0000, 0.0000, 0.0000, 0.0000,\n",
              "        0.0000, 0.0000, 0.0000, 0.0000, 0.0000, 0.0000, 0.0000, 0.0000, 0.0000,\n",
              "        0.0000, 0.3725, 0.0000, 0.0000, 0.0000, 0.0000, 0.0000, 0.0000, 0.0000,\n",
              "        0.0000, 0.0000, 0.0000, 0.0000, 0.0000, 0.0000, 0.0000, 0.0000, 0.0000,\n",
              "        0.3373, 0.3569, 0.2039, 0.4980, 0.4196, 0.4706, 0.3608, 0.3961, 0.4706,\n",
              "        0.4471, 1.0000, 0.4314, 0.3451, 0.0078, 0.0000, 0.0000, 0.0000, 0.0000,\n",
              "        0.0000, 0.0000, 0.0000, 0.0000, 0.0000, 0.0000, 0.0000, 0.0000, 0.0000,\n",
              "        0.0000, 0.0706, 0.0824, 0.0706, 0.4588, 0.4118, 0.4980, 0.2588, 0.2235,\n",
              "        0.2588, 0.0824, 0.0510, 0.1922, 0.5137, 0.5765, 0.0000, 0.0000, 0.0000,\n",
              "        0.0000, 0.0000, 0.0000, 0.0000, 0.0000, 0.0000, 0.0000, 0.0000, 0.0000,\n",
              "        0.0000, 0.0000, 0.0000, 0.0000, 0.0000, 0.0000, 0.0000, 0.0000, 0.0000,\n",
              "        0.0000, 0.0000, 0.0000, 0.1333, 0.8000, 0.5608, 0.5255, 0.2431, 0.0000,\n",
              "        0.0000, 0.0000, 0.0000, 0.0000, 0.0000, 0.0000, 0.0000, 0.0000, 0.0000,\n",
              "        0.0000, 0.0000, 0.0000, 0.0039, 0.0039, 0.0000, 0.0000, 0.0000, 0.0000,\n",
              "        0.0078, 0.0000, 0.0000, 0.0000, 0.9137, 0.9686, 0.5137, 0.4353, 0.6471,\n",
              "        0.0000, 0.0000, 0.0000, 0.0000, 0.0000, 0.0000, 0.0000, 0.0000, 0.0000,\n",
              "        0.0000, 0.0000, 0.0000, 0.0000, 0.0000, 0.0000, 0.0000, 0.0000, 0.0000,\n",
              "        0.0000, 0.0000, 0.0000, 0.0000, 0.0588, 0.3843, 0.6980, 0.0588, 0.2824,\n",
              "        0.1686, 0.0000, 0.0000, 0.0000, 0.0000, 0.0000, 0.0000, 0.0000, 0.0000,\n",
              "        0.0000, 0.0000, 0.0000, 0.0000, 0.0000, 0.0000, 0.0000, 0.0000, 0.0000,\n",
              "        0.0000, 0.0000, 0.0000, 0.0000, 0.1333, 0.2078, 0.2157, 0.6745, 0.2941,\n",
              "        0.1059, 0.0000, 0.0000, 0.0000, 0.0000, 0.0000, 0.0000, 0.0000, 0.0000,\n",
              "        0.0000, 0.0000, 0.0000, 0.0000, 0.0000, 0.0000, 0.0000, 0.0000, 0.0000,\n",
              "        0.0000, 0.0000, 0.0039, 0.0000, 0.0078, 0.3333, 0.2980, 0.2941, 0.2039,\n",
              "        0.0314, 0.0000, 0.0000, 0.0000, 0.0000, 0.0000, 0.0000, 0.0000, 0.0000,\n",
              "        0.0000, 0.0000, 0.0000, 0.0000, 0.0000, 0.0000, 0.0000, 0.0000, 0.0000,\n",
              "        0.0000, 0.0000, 0.0039, 0.0039, 0.0000, 0.2196, 0.5020, 0.0157, 0.0706,\n",
              "        0.3451, 0.3216, 0.0588, 0.0000, 0.0000, 0.0000, 0.0000, 0.0000, 0.0000,\n",
              "        0.0000, 0.0000, 0.0000, 0.0000, 0.0000, 0.0000, 0.0000, 0.0000, 0.0000,\n",
              "        0.0000, 0.0000, 0.0000, 0.0000, 0.0000, 0.0157, 0.4863, 0.3843, 0.1804,\n",
              "        0.6235, 0.7882, 0.6000, 0.1569, 0.0000, 0.0000, 0.0000, 0.0000, 0.0000,\n",
              "        0.0000, 0.0000, 0.0000, 0.0000, 0.0000, 0.0000, 0.0000, 0.0000, 0.0000,\n",
              "        0.0000, 0.0000, 0.0000, 0.0000, 0.0000, 0.0000, 0.2863, 0.4431, 0.4196,\n",
              "        0.5882, 0.5020, 0.1020, 0.2235, 0.0549, 0.0000, 0.0000, 0.0000, 0.0000,\n",
              "        0.0000, 0.0000, 0.0000, 0.0000, 0.0000, 0.0000, 0.0000, 0.0000, 0.0000,\n",
              "        0.0000, 0.0000, 0.0000, 0.0000, 0.0000, 0.0000, 0.0039, 0.4078, 0.4314,\n",
              "        0.7137, 0.1843, 0.2196, 0.4118, 0.3216, 0.0196, 0.0000, 0.0000, 0.0000,\n",
              "        0.0000, 0.0000, 0.0039, 0.0000, 0.0000, 0.0000, 0.0000, 0.0000, 0.0000,\n",
              "        0.0000, 0.0000, 0.0000, 0.0000, 0.0000, 0.0000, 0.0000, 0.2549, 0.5647,\n",
              "        0.6275, 0.0824, 0.0000, 0.0000, 0.5098, 0.3333, 0.0000, 0.0000, 0.0000,\n",
              "        0.0000, 0.0000, 0.0000, 0.0000, 0.0000, 0.0039, 0.0039, 0.0000, 0.0000,\n",
              "        0.0000, 0.0000, 0.0000, 0.0000, 0.0000, 0.0000, 0.0000, 0.3333, 0.5647,\n",
              "        0.5529, 0.0000, 0.0000, 0.0000, 0.0000, 0.6510, 0.3059, 0.0000, 0.0000,\n",
              "        0.0000, 0.0000, 0.0000, 0.0000, 0.0000, 0.0000, 0.0000, 0.0000, 0.0000,\n",
              "        0.0000, 0.0000, 0.0000, 0.0000, 0.0000, 0.0000, 0.0000, 0.1922, 0.7216,\n",
              "        0.4510, 0.0000, 0.0000, 0.0157, 0.0000, 0.0000, 0.6275, 0.2667, 0.0000,\n",
              "        0.0000, 0.0000, 0.0000, 0.0000, 0.0039, 0.0000, 0.0000, 0.0784, 0.0784,\n",
              "        0.0000, 0.0000, 0.0000, 0.0000, 0.0000, 0.0000, 0.0000, 0.0706, 0.6392,\n",
              "        0.3804, 0.0000, 0.0000, 0.0000, 0.0314, 0.0000, 0.0000, 0.6667, 0.1529,\n",
              "        0.0000, 0.0000, 0.0000, 0.0000, 0.0039, 0.0000, 0.0314, 0.2471, 0.2980,\n",
              "        0.1686, 0.0000, 0.0000, 0.0000, 0.0000, 0.0000, 0.0000, 0.0000, 0.5255,\n",
              "        0.5333, 0.0000, 0.0000, 0.0000, 0.0000, 0.0078, 0.0000, 0.0000, 0.6784,\n",
              "        0.0706, 0.0000, 0.0039, 0.0039, 0.0039, 0.0000, 0.0000, 0.0706, 0.0941,\n",
              "        0.0000, 0.0196, 0.0000, 0.0000, 0.0000, 0.0000, 0.0000, 0.0000, 0.3451,\n",
              "        0.7137, 0.0275, 0.0000, 0.0000, 0.0000, 0.0000, 0.0000, 0.0000, 0.0000,\n",
              "        0.6588, 0.0039, 0.0000, 0.0039, 0.0000, 0.0000, 0.0000, 0.0000, 0.0078,\n",
              "        0.1922, 0.1059, 0.1216, 0.2196, 0.0667, 0.0000, 0.0000, 0.0000, 0.3451,\n",
              "        0.6000, 0.1922, 0.0000, 0.0196, 0.0000, 0.0039, 0.0000, 0.0000, 0.0000,\n",
              "        0.0000, 0.6471, 0.0000, 0.0000, 0.0039, 0.0510, 0.0275, 0.0000, 0.0000,\n",
              "        0.0000, 0.3294, 0.3804, 0.4000, 0.4941, 0.3882, 0.0000, 0.0196, 0.5020,\n",
              "        0.6000, 0.2863, 0.0000, 0.0000, 0.0000, 0.0000, 0.0000, 0.0000, 0.0000,\n",
              "        0.0000, 0.0039, 0.5451, 0.0000, 0.0000, 0.0000, 0.3176, 0.5961, 0.5725,\n",
              "        0.5490, 0.4863, 0.4824, 0.5098, 0.4941, 0.4431, 0.4431, 0.4471, 0.7216,\n",
              "        0.6235, 0.1647, 0.0000, 0.0000, 0.0000, 0.0078, 0.0000, 0.0000, 0.0000,\n",
              "        0.0000, 0.0000, 0.0000, 0.7294, 0.0000, 0.0000, 0.0039, 0.0000, 0.0000,\n",
              "        0.0000, 0.0941, 0.1647, 0.1804, 0.2235, 0.2549, 0.2706, 0.2549, 0.2471,\n",
              "        0.1569, 0.0000, 0.0000, 0.0000, 0.0000, 0.0000, 0.0000, 0.0000, 0.0000,\n",
              "        0.0000, 0.0000, 0.0000, 0.0000, 0.7137, 0.0157, 0.0000, 0.0039, 0.0000,\n",
              "        0.0000, 0.0000, 0.0000, 0.0000, 0.0000, 0.0000, 0.0000, 0.0000, 0.0000,\n",
              "        0.0000, 0.0000, 0.0000, 0.0000, 0.0000, 0.0000, 0.0000, 0.0000, 0.0000,\n",
              "        0.0000, 0.0000, 0.0000, 0.0000, 0.0000, 0.0000, 0.0000, 0.0000, 0.0000,\n",
              "        0.0000, 0.0000, 0.0000, 0.0000, 0.0000, 0.0000, 0.0000, 0.0000, 0.0000,\n",
              "        0.0000, 0.0000, 0.0000, 0.0000, 0.0000, 0.0000, 0.0000, 0.0000, 0.0000,\n",
              "        0.0000, 0.0000, 0.0000, 0.0000, 0.0000, 0.0000, 0.0000, 0.0000, 0.0000,\n",
              "        0.0000])"
            ]
          },
          "metadata": {},
          "execution_count": 24
        }
      ]
    },
    {
      "cell_type": "markdown",
      "source": [
        "##Builing the base model"
      ],
      "metadata": {
        "id": "LDmzwSQBhkDJ"
      }
    },
    {
      "cell_type": "code",
      "source": [
        "import torch\n",
        "from torch  import nn\n",
        "class FashionMNISTV0(nn.Module):\n",
        "  def __init__(self,\n",
        "               input_shape = int,\n",
        "               hidden_units = int,\n",
        "               output_shape = int):\n",
        "\n",
        "     super().__init__()\n",
        "     self.layer_stack = nn.Sequential(\n",
        "         nn.Flatten(),\n",
        "         nn.Linear(in_features = input_shape,out_features = hidden_units),\n",
        "\n",
        "         nn.Linear(in_features = hidden_units,out_features = output_shape)\n",
        "\n",
        "     )\n",
        "  def forward(self, X):\n",
        "    return self.layer_stack(X)"
      ],
      "metadata": {
        "id": "uA5Z3TjZ3yIv"
      },
      "execution_count": null,
      "outputs": []
    },
    {
      "cell_type": "code",
      "source": [
        "torch.manual_seed(42)\n",
        "#setup model with input paremeter\n",
        "model_0 = FashionMNISTV0(\n",
        "    input_shape = 28*28,\n",
        "    hidden_units = 10,\n",
        "    output_shape = len(class_names)\n",
        ").to(\"cpu\")\n",
        "model_0"
      ],
      "metadata": {
        "colab": {
          "base_uri": "https://localhost:8080/"
        },
        "id": "h2ixKq5L6YoL",
        "outputId": "3e1ee92e-6893-41f3-fd1a-0af786251fc5"
      },
      "execution_count": null,
      "outputs": [
        {
          "output_type": "execute_result",
          "data": {
            "text/plain": [
              "FashionMNISTV0(\n",
              "  (layer_stack): Sequential(\n",
              "    (0): Flatten(start_dim=1, end_dim=-1)\n",
              "    (1): Linear(in_features=784, out_features=10, bias=True)\n",
              "    (2): Linear(in_features=10, out_features=10, bias=True)\n",
              "  )\n",
              ")"
            ]
          },
          "metadata": {},
          "execution_count": 26
        }
      ]
    },
    {
      "source": [
        "import torch\n",
        "from torch import nn\n",
        "from torch.autograd.grad_mode import inference_mode\n",
        "\n",
        "# Create the dummy tensor outside inference_mode\n",
        "dummy = torch.rand([1,1,28,28])\n",
        "\n",
        "with inference_mode():\n",
        "  # Now use the dummy tensor within inference_mode\n",
        "  print(model_0(dummy))"
      ],
      "cell_type": "code",
      "metadata": {
        "colab": {
          "base_uri": "https://localhost:8080/"
        },
        "id": "J6chfOLi9I-G",
        "outputId": "fac08c5d-a743-41d7-e985-5c2e3872a844"
      },
      "execution_count": null,
      "outputs": [
        {
          "output_type": "stream",
          "name": "stdout",
          "text": [
            "tensor([[-0.0315,  0.3171,  0.0531, -0.2525,  0.5959,  0.2112,  0.3233,  0.2694,\n",
            "         -0.1004,  0.0157]])\n"
          ]
        }
      ]
    },
    {
      "cell_type": "code",
      "source": [
        "#Setup loss , optimizer and evaluation metrics"
      ],
      "metadata": {
        "id": "XLp_7a9_9T_s"
      },
      "execution_count": null,
      "outputs": []
    },
    {
      "source": [
        "import urllib.request # Importing the 'urllib.request' module instead of 'requests'\n",
        "from pathlib import Path\n",
        "\n",
        "if Path(\"helper_functions.py\").is_file():\n",
        "  print(\"helper_functions.py already exists\")\n",
        "else:\n",
        "  urllib.request.urlretrieve(url=\"https://raw.githubusercontent.com/mrdbourke/pytorch-deep-learning/main/helper_functions.py\", # Using 'urllib.request.urlretrieve'\n",
        "                      filename=\"helper_functions.py\") # Downloading the file"
      ],
      "cell_type": "code",
      "metadata": {
        "id": "xmQD0k30GtFK"
      },
      "execution_count": null,
      "outputs": []
    },
    {
      "cell_type": "code",
      "source": [
        "from helper_functions import accuracy_fn\n",
        "#setup loss fn\n",
        "loss_fn = nn.CrossEntropyLoss()\n",
        "#setup optimizer\n",
        "optimizer = torch.optim.SGD(params = model_0.parameters(),lr = 0.01)"
      ],
      "metadata": {
        "id": "tBr7oDPpGMH_"
      },
      "execution_count": null,
      "outputs": []
    },
    {
      "source": [
        "##import tqdm for progress bar\n",
        "from tqdm.auto import tqdm\n",
        "torch.manual_seed(42)\n",
        "epochs = 3\n",
        "for epoch in tqdm(range(epochs)):\n",
        "  print(f\"epoch {epoch}\")\n",
        "  train_loss = 0\n",
        "  for batch , (X,y) in enumerate(train_dataloader):\n",
        "    model_0.train()\n",
        "    #1 Forward pass\n",
        "    y_pred = model_0(X)\n",
        "    #2 calculalte the loss(per batch)\n",
        "    loss = loss_fn(y_pred,y)\n",
        "    train_loss += loss\n",
        "    #3 optimizer zero grad\n",
        "    optimizer.zero_grad()\n",
        "    #4 loss backward\n",
        "    loss.backward()\n",
        "    #5 optimizer step\n",
        "    optimizer.step()\n",
        "    #print whats happening\n",
        "    if batch%400 == 0:\n",
        "      print(f\"looked at {batch*len(X)}/{len(train_dataloader.dataset)} samples\")\n",
        "  train_loss /= len(train_dataloader)\n",
        "  ##testing\n",
        "  test_loss,test_acc = 0,0\n",
        "  model_0.eval()\n",
        "  with torch.inference_mode():\n",
        "    for X,y in test_dataloader:\n",
        "      test_pred = model_0(X)\n",
        "      # Accumulate loss and accuracy as Python numbers within inference_mode\n",
        "      test_loss += loss_fn(test_pred,y).item()\n",
        "      test_acc += accuracy_fn(y_true = y,y_pred = test_pred.argmax(dim=1))\n",
        "  # Calculate average loss and accuracy outside inference_mode\n",
        "  test_loss /= len(test_dataloader)\n",
        "  test_acc /= len(test_dataloader)\n",
        "  print(f\"train loss {train_loss} and test loss {test_loss} and test acc {test_acc}\")"
      ],
      "cell_type": "code",
      "metadata": {
        "colab": {
          "base_uri": "https://localhost:8080/",
          "height": 425,
          "referenced_widgets": [
            "26b258bf399042d4a811402de30bfab7",
            "eef0d7dcadef464b956d05ca78623795",
            "8829d6f57a294d53ac3a3bfa0ac61e5e",
            "564e3d4b579d47eea160ca95980884c3",
            "7a79f889efae498e8ee10cf877ba46a9",
            "6a4f97d8fca241f8a24f6bceff03450d",
            "f7c8fda7d37e4d8ca855a16c439cb3e3",
            "99eb30ab74c64a97b4ab1e9e961e08ad",
            "7dda26d57ac34ed198da57ffc1562afd",
            "e007e8d6c0424004843069965021f465",
            "9898802c773f45eb9665f02625112eca"
          ]
        },
        "id": "oZY829k1MAPt",
        "outputId": "be3433a6-b8d9-4cf3-e17e-db8102e345ca"
      },
      "execution_count": null,
      "outputs": [
        {
          "output_type": "display_data",
          "data": {
            "text/plain": [
              "  0%|          | 0/3 [00:00<?, ?it/s]"
            ],
            "application/vnd.jupyter.widget-view+json": {
              "version_major": 2,
              "version_minor": 0,
              "model_id": "26b258bf399042d4a811402de30bfab7"
            }
          },
          "metadata": {}
        },
        {
          "output_type": "stream",
          "name": "stdout",
          "text": [
            "epoch 0\n",
            "looked at 0/60000 samples\n",
            "looked at 12800/60000 samples\n",
            "looked at 25600/60000 samples\n",
            "looked at 38400/60000 samples\n",
            "looked at 51200/60000 samples\n",
            "train loss 0.9096065759658813 and test loss 0.6290155898648709 and test acc 78.63418530351437\n",
            "epoch 1\n",
            "looked at 0/60000 samples\n",
            "looked at 12800/60000 samples\n",
            "looked at 25600/60000 samples\n",
            "looked at 38400/60000 samples\n",
            "looked at 51200/60000 samples\n",
            "train loss 0.557327151298523 and test loss 0.5440863735093096 and test acc 81.13019169329074\n",
            "epoch 2\n",
            "looked at 0/60000 samples\n",
            "looked at 12800/60000 samples\n",
            "looked at 25600/60000 samples\n",
            "looked at 38400/60000 samples\n",
            "looked at 51200/60000 samples\n",
            "train loss 0.5026633143424988 and test loss 0.5136752322363777 and test acc 81.9988019169329\n"
          ]
        }
      ]
    },
    {
      "cell_type": "code",
      "source": [
        "##Evaluate the model\n",
        "torch.manual_seed(42)\n",
        "def eval_model(\n",
        "    model:torch.nn.Module,\n",
        "    data_loader:torch.utils.data.DataLoader,\n",
        "    loss_fn:torch.nn.Module,\n",
        "    accuracy_fn\n",
        "):\n",
        "  loss ,acc =0,0\n",
        "  model.eval()\n",
        "  with torch.inference_mode():\n",
        "    for X,y in data_loader:\n",
        "      y_pred = model(X)\n",
        "      loss += loss_fn(y_pred,y)\n",
        "      acc += accuracy_fn(y_true = y,y_pred = y_pred.argmax(dim=1))\n",
        "    loss /= len(data_loader)\n",
        "    acc /= len(data_loader)\n",
        "  return {\"model_name\":model.__class__.__name__,\"model_loss\":loss.item(),\"model_acc\":acc}\n",
        "model_0_results = eval_model(\n",
        "    model = model_0,\n",
        "    data_loader = test_dataloader,\n",
        "    loss_fn = loss_fn,\n",
        "    accuracy_fn = accuracy_fn\n",
        ")\n",
        "model_0_results\n",
        "\n"
      ],
      "metadata": {
        "colab": {
          "base_uri": "https://localhost:8080/"
        },
        "id": "WOwnRHyKIJox",
        "outputId": "68185f19-8670-4a82-8861-efd09b70b7de"
      },
      "execution_count": null,
      "outputs": [
        {
          "output_type": "execute_result",
          "data": {
            "text/plain": [
              "{'model_name': 'FashionMNISTV0',\n",
              " 'model_loss': 0.5136752128601074,\n",
              " 'model_acc': 81.9988019169329}"
            ]
          },
          "metadata": {},
          "execution_count": 32
        }
      ]
    },
    {
      "cell_type": "markdown",
      "source": [
        "##Building the CNN model"
      ],
      "metadata": {
        "id": "W8o8eLPXebPA"
      }
    },
    {
      "cell_type": "code",
      "source": [
        "class FashionMNISTV1(nn.Module):\n",
        "  def __init__(self,input_shape:int,hidden_units:int,output_shape:int):\n",
        "    super().__init__()\n",
        "    self.conv_block_1 = nn.Sequential(\n",
        "        nn.Conv2d(in_channels=input_shape,out_channels=hidden_units,kernel_size=3,stride=1,padding=1),\n",
        "        nn.ReLU(),\n",
        "        nn.Conv2d(in_channels=hidden_units,out_channels=hidden_units,kernel_size=3,stride=1,padding=1),\n",
        "        nn.ReLU(),\n",
        "        nn.MaxPool2d(kernel_size=2,stride=2)\n",
        "    )\n",
        "    self.conv_block_2 = nn.Sequential(\n",
        "        nn.Conv2d(in_channels=hidden_units,out_channels=hidden_units,kernel_size=3,stride=1,padding=1),\n",
        "        nn.ReLU(),\n",
        "        nn.Conv2d(in_channels=hidden_units,out_channels=hidden_units,kernel_size=3,stride=1,padding=1),\n",
        "        nn.ReLU(),\n",
        "        nn.MaxPool2d(kernel_size=2,stride=2)\n",
        "    )\n",
        "    self.classifier = nn.Sequential(\n",
        "         nn.Flatten(),\n",
        "         nn.Linear(in_features = hidden_units*7*7,out_features = output_shape)\n",
        "\n",
        "    )\n",
        "  def forward(self,X):\n",
        "      X = self.conv_block_1(X)\n",
        "      #print(X.shape)\n",
        "      X = self.conv_block_2(X)\n",
        "      #print(X.shape)\n",
        "      X = self.classifier(X)\n",
        "      #print(X.shape)\n",
        "      return X\n"
      ],
      "metadata": {
        "id": "WOThvgMpefjn"
      },
      "execution_count": null,
      "outputs": []
    },
    {
      "cell_type": "code",
      "source": [
        "torch.manual_seed(42)\n",
        "model_2 = FashionMNISTV1(\n",
        "    input_shape = 1,\n",
        "    hidden_units = 30,\n",
        "    output_shape = len(class_names)\n",
        ").to(\"cpu\")\n",
        "model_2"
      ],
      "metadata": {
        "colab": {
          "base_uri": "https://localhost:8080/"
        },
        "id": "RfHDrKLIio5V",
        "outputId": "23a6a274-bff2-413b-fb67-2339bfee4b8d"
      },
      "execution_count": null,
      "outputs": [
        {
          "output_type": "execute_result",
          "data": {
            "text/plain": [
              "FashionMNISTV1(\n",
              "  (conv_block_1): Sequential(\n",
              "    (0): Conv2d(1, 30, kernel_size=(3, 3), stride=(1, 1), padding=(1, 1))\n",
              "    (1): ReLU()\n",
              "    (2): Conv2d(30, 30, kernel_size=(3, 3), stride=(1, 1), padding=(1, 1))\n",
              "    (3): ReLU()\n",
              "    (4): MaxPool2d(kernel_size=2, stride=2, padding=0, dilation=1, ceil_mode=False)\n",
              "  )\n",
              "  (conv_block_2): Sequential(\n",
              "    (0): Conv2d(30, 30, kernel_size=(3, 3), stride=(1, 1), padding=(1, 1))\n",
              "    (1): ReLU()\n",
              "    (2): Conv2d(30, 30, kernel_size=(3, 3), stride=(1, 1), padding=(1, 1))\n",
              "    (3): ReLU()\n",
              "    (4): MaxPool2d(kernel_size=2, stride=2, padding=0, dilation=1, ceil_mode=False)\n",
              "  )\n",
              "  (classifier): Sequential(\n",
              "    (0): Flatten(start_dim=1, end_dim=-1)\n",
              "    (1): Linear(in_features=1470, out_features=10, bias=True)\n",
              "  )\n",
              ")"
            ]
          },
          "metadata": {},
          "execution_count": 34
        }
      ]
    },
    {
      "cell_type": "code",
      "source": [
        "random_img_tensor = torch.rand(size=(1,28,28))\n",
        "random_img_tensor.shape"
      ],
      "metadata": {
        "colab": {
          "base_uri": "https://localhost:8080/"
        },
        "id": "bQOff2pyrN0D",
        "outputId": "24b69418-7943-4798-d365-d152b3b20f14"
      },
      "execution_count": null,
      "outputs": [
        {
          "output_type": "execute_result",
          "data": {
            "text/plain": [
              "torch.Size([1, 28, 28])"
            ]
          },
          "metadata": {},
          "execution_count": 35
        }
      ]
    },
    {
      "cell_type": "code",
      "source": [
        "model_2(random_img_tensor.unsqueeze(0))"
      ],
      "metadata": {
        "colab": {
          "base_uri": "https://localhost:8080/"
        },
        "id": "NGgYQ4h4uDwQ",
        "outputId": "c8616379-f4c2-4617-fa28-e64070d8413c"
      },
      "execution_count": null,
      "outputs": [
        {
          "output_type": "execute_result",
          "data": {
            "text/plain": [
              "tensor([[ 0.0112,  0.0251, -0.0201, -0.0092,  0.0297, -0.0347,  0.0012, -0.0229,\n",
              "          0.0229, -0.0248]], grad_fn=<AddmmBackward0>)"
            ]
          },
          "metadata": {},
          "execution_count": 36
        }
      ]
    },
    {
      "cell_type": "code",
      "source": [
        "##setup loss function\n",
        "from helper_functions import accuracy_fn\n",
        "loss_fn = nn.CrossEntropyLoss()\n",
        "optimizer = torch.optim.SGD(params = model_2.parameters(),lr = 0.01)"
      ],
      "metadata": {
        "id": "ojQmO3AkuKtG"
      },
      "execution_count": null,
      "outputs": []
    },
    {
      "cell_type": "code",
      "source": [
        "model_2.state_dict()"
      ],
      "metadata": {
        "colab": {
          "base_uri": "https://localhost:8080/"
        },
        "id": "SXI8-1bTJNSs",
        "outputId": "0bb694bb-c167-4724-85ed-a1d2540f703b"
      },
      "execution_count": null,
      "outputs": [
        {
          "output_type": "execute_result",
          "data": {
            "text/plain": [
              "OrderedDict([('conv_block_1.0.weight',\n",
              "              tensor([[[[ 0.2548,  0.2767, -0.0781],\n",
              "                        [ 0.3062, -0.0730,  0.0673],\n",
              "                        [-0.1623,  0.1958,  0.2938]]],\n",
              "              \n",
              "              \n",
              "                      [[[-0.2445,  0.2897,  0.0624],\n",
              "                        [ 0.2463,  0.0451,  0.1607],\n",
              "                        [-0.0471,  0.2570,  0.0493]]],\n",
              "              \n",
              "              \n",
              "                      [[[-0.1556,  0.0850, -0.1536],\n",
              "                        [-0.0391, -0.1354,  0.2211],\n",
              "                        [-0.2631, -0.1537, -0.0941]]],\n",
              "              \n",
              "              \n",
              "                      [[[-0.2004,  0.0315, -0.3292],\n",
              "                        [ 0.3010, -0.2832,  0.2573],\n",
              "                        [ 0.0555, -0.1082,  0.2060]]],\n",
              "              \n",
              "              \n",
              "                      [[[ 0.0520,  0.2693,  0.0364],\n",
              "                        [-0.1051,  0.0896, -0.0904],\n",
              "                        [ 0.1403,  0.2976,  0.1927]]],\n",
              "              \n",
              "              \n",
              "                      [[[-0.1457,  0.1924,  0.0596],\n",
              "                        [ 0.1693, -0.2032, -0.3300],\n",
              "                        [-0.1288, -0.2557,  0.2735]]],\n",
              "              \n",
              "              \n",
              "                      [[[ 0.0960,  0.1381,  0.1054],\n",
              "                        [-0.0058,  0.2609, -0.2368],\n",
              "                        [ 0.0210, -0.2275,  0.1028]]],\n",
              "              \n",
              "              \n",
              "                      [[[-0.1148,  0.1021, -0.0694],\n",
              "                        [ 0.2765, -0.1976, -0.1988],\n",
              "                        [-0.1988,  0.2998,  0.1111]]],\n",
              "              \n",
              "              \n",
              "                      [[[ 0.3208, -0.2751, -0.3306],\n",
              "                        [-0.2608, -0.2242,  0.1350],\n",
              "                        [ 0.1194,  0.2770, -0.1721]]],\n",
              "              \n",
              "              \n",
              "                      [[[-0.2272,  0.1769, -0.1347],\n",
              "                        [ 0.2023, -0.0791,  0.1907],\n",
              "                        [-0.2590, -0.1682,  0.1016]]],\n",
              "              \n",
              "              \n",
              "                      [[[ 0.0705, -0.0850,  0.1987],\n",
              "                        [ 0.2266, -0.2417, -0.1780],\n",
              "                        [ 0.3052, -0.1125, -0.1182]]],\n",
              "              \n",
              "              \n",
              "                      [[[-0.3225, -0.1909,  0.0833],\n",
              "                        [-0.0440, -0.2420,  0.0078],\n",
              "                        [-0.2277, -0.2828, -0.1836]]],\n",
              "              \n",
              "              \n",
              "                      [[[-0.2917, -0.2122,  0.3332],\n",
              "                        [ 0.0630,  0.1027, -0.3109],\n",
              "                        [-0.2189, -0.1110,  0.0521]]],\n",
              "              \n",
              "              \n",
              "                      [[[-0.2933, -0.1436, -0.1996],\n",
              "                        [ 0.0009, -0.1240, -0.0231],\n",
              "                        [-0.2259, -0.2288, -0.1945]]],\n",
              "              \n",
              "              \n",
              "                      [[[-0.1141, -0.2631,  0.2795],\n",
              "                        [-0.0662,  0.2868,  0.1039],\n",
              "                        [-0.2823,  0.2307, -0.0917]]],\n",
              "              \n",
              "              \n",
              "                      [[[-0.1278, -0.2767, -0.3314],\n",
              "                        [ 0.0954, -0.0728,  0.1298],\n",
              "                        [-0.2736,  0.2475, -0.2447]]],\n",
              "              \n",
              "              \n",
              "                      [[[-0.0576,  0.0696,  0.1721],\n",
              "                        [ 0.2691,  0.3037, -0.2643],\n",
              "                        [ 0.0839, -0.1434, -0.0365]]],\n",
              "              \n",
              "              \n",
              "                      [[[-0.2495,  0.3036, -0.2447],\n",
              "                        [ 0.1782,  0.1171,  0.1083],\n",
              "                        [-0.1802,  0.3030,  0.0733]]],\n",
              "              \n",
              "              \n",
              "                      [[[ 0.0429, -0.2938,  0.1399],\n",
              "                        [-0.0500, -0.1527,  0.2863],\n",
              "                        [ 0.0743, -0.1844, -0.1687]]],\n",
              "              \n",
              "              \n",
              "                      [[[-0.0159,  0.1861, -0.0852],\n",
              "                        [-0.1902, -0.1141, -0.2490],\n",
              "                        [ 0.1189,  0.2580, -0.3138]]],\n",
              "              \n",
              "              \n",
              "                      [[[ 0.0774,  0.1722,  0.0604],\n",
              "                        [-0.1187,  0.1740,  0.1752],\n",
              "                        [ 0.1246, -0.0586, -0.0883]]],\n",
              "              \n",
              "              \n",
              "                      [[[ 0.0357, -0.0589, -0.0993],\n",
              "                        [ 0.2131,  0.2865, -0.0330],\n",
              "                        [-0.0746,  0.0049, -0.0199]]],\n",
              "              \n",
              "              \n",
              "                      [[[ 0.0801,  0.0934, -0.3028],\n",
              "                        [-0.1230,  0.2807,  0.1299],\n",
              "                        [-0.0166, -0.2010, -0.2039]]],\n",
              "              \n",
              "              \n",
              "                      [[[-0.2986, -0.1087,  0.1126],\n",
              "                        [ 0.2125,  0.1539, -0.2946],\n",
              "                        [-0.2005, -0.0526,  0.3224]]],\n",
              "              \n",
              "              \n",
              "                      [[[ 0.0482, -0.0863,  0.1379],\n",
              "                        [-0.1270, -0.2158,  0.2433],\n",
              "                        [-0.1516, -0.0668, -0.3316]]],\n",
              "              \n",
              "              \n",
              "                      [[[ 0.2231,  0.2525,  0.1215],\n",
              "                        [-0.2324, -0.3290, -0.2707],\n",
              "                        [ 0.2486,  0.1600,  0.2805]]],\n",
              "              \n",
              "              \n",
              "                      [[[ 0.1746,  0.0844, -0.0033],\n",
              "                        [-0.2535, -0.2856, -0.3118],\n",
              "                        [ 0.1365, -0.1637, -0.0671]]],\n",
              "              \n",
              "              \n",
              "                      [[[-0.1918, -0.0607, -0.2346],\n",
              "                        [-0.2178,  0.1106, -0.0991],\n",
              "                        [ 0.2058, -0.1069, -0.2445]]],\n",
              "              \n",
              "              \n",
              "                      [[[-0.0588, -0.1616, -0.1020],\n",
              "                        [-0.3173,  0.1865, -0.2321],\n",
              "                        [ 0.1675,  0.1513,  0.2381]]],\n",
              "              \n",
              "              \n",
              "                      [[[-0.2557,  0.2397, -0.1576],\n",
              "                        [ 0.1237,  0.3130, -0.0470],\n",
              "                        [-0.0026, -0.0767, -0.2783]]]])),\n",
              "             ('conv_block_1.0.bias',\n",
              "              tensor([ 0.1600, -0.3309,  0.2069,  0.2494,  0.3152, -0.0786, -0.2739,  0.0749,\n",
              "                       0.1841, -0.3318, -0.0757, -0.1998, -0.0292, -0.1641, -0.1363, -0.1058,\n",
              "                      -0.3168,  0.2735,  0.2794, -0.0523, -0.0380, -0.1360, -0.3010, -0.3244,\n",
              "                       0.1239, -0.1830, -0.2143, -0.0260, -0.1110, -0.1078])),\n",
              "             ('conv_block_1.2.weight',\n",
              "              tensor([[[[ 0.0020, -0.0129, -0.0210],\n",
              "                        [-0.0291, -0.0495,  0.0510],\n",
              "                        [-0.0244,  0.0161, -0.0211]],\n",
              "              \n",
              "                       [[ 0.0049,  0.0567,  0.0280],\n",
              "                        [-0.0527,  0.0242,  0.0578],\n",
              "                        [ 0.0160,  0.0408,  0.0600]],\n",
              "              \n",
              "                       [[-0.0093,  0.0126, -0.0423],\n",
              "                        [-0.0125,  0.0451,  0.0312],\n",
              "                        [-0.0385, -0.0488, -0.0416]],\n",
              "              \n",
              "                       ...,\n",
              "              \n",
              "                       [[ 0.0108,  0.0573,  0.0058],\n",
              "                        [ 0.0352,  0.0472,  0.0491],\n",
              "                        [-0.0210, -0.0136,  0.0293]],\n",
              "              \n",
              "                       [[-0.0166,  0.0285, -0.0133],\n",
              "                        [-0.0413,  0.0248,  0.0093],\n",
              "                        [ 0.0271,  0.0605,  0.0415]],\n",
              "              \n",
              "                       [[ 0.0577,  0.0033, -0.0524],\n",
              "                        [-0.0427, -0.0378, -0.0536],\n",
              "                        [-0.0305, -0.0560, -0.0561]]],\n",
              "              \n",
              "              \n",
              "                      [[[-0.0364, -0.0600, -0.0374],\n",
              "                        [ 0.0232,  0.0508, -0.0181],\n",
              "                        [-0.0177,  0.0325, -0.0300]],\n",
              "              \n",
              "                       [[-0.0288,  0.0375, -0.0530],\n",
              "                        [ 0.0074,  0.0538,  0.0104],\n",
              "                        [ 0.0165, -0.0354, -0.0008]],\n",
              "              \n",
              "                       [[ 0.0033,  0.0149,  0.0236],\n",
              "                        [ 0.0529, -0.0465,  0.0018],\n",
              "                        [-0.0304, -0.0481, -0.0049]],\n",
              "              \n",
              "                       ...,\n",
              "              \n",
              "                       [[ 0.0234,  0.0334, -0.0138],\n",
              "                        [ 0.0338,  0.0449, -0.0159],\n",
              "                        [ 0.0433,  0.0297,  0.0537]],\n",
              "              \n",
              "                       [[-0.0346, -0.0301, -0.0176],\n",
              "                        [ 0.0031,  0.0365, -0.0347],\n",
              "                        [ 0.0305, -0.0218,  0.0368]],\n",
              "              \n",
              "                       [[-0.0029, -0.0533, -0.0335],\n",
              "                        [-0.0440,  0.0302, -0.0408],\n",
              "                        [-0.0051,  0.0131, -0.0334]]],\n",
              "              \n",
              "              \n",
              "                      [[[ 0.0176, -0.0594, -0.0435],\n",
              "                        [-0.0551, -0.0184, -0.0222],\n",
              "                        [ 0.0087, -0.0113,  0.0286]],\n",
              "              \n",
              "                       [[ 0.0558,  0.0218, -0.0240],\n",
              "                        [-0.0570,  0.0220, -0.0302],\n",
              "                        [ 0.0310,  0.0407,  0.0235]],\n",
              "              \n",
              "                       [[ 0.0571,  0.0578,  0.0129],\n",
              "                        [-0.0443,  0.0544, -0.0289],\n",
              "                        [-0.0287,  0.0509,  0.0472]],\n",
              "              \n",
              "                       ...,\n",
              "              \n",
              "                       [[-0.0547,  0.0040,  0.0395],\n",
              "                        [ 0.0554,  0.0355, -0.0315],\n",
              "                        [-0.0602,  0.0231,  0.0341]],\n",
              "              \n",
              "                       [[-0.0522,  0.0218,  0.0515],\n",
              "                        [ 0.0037, -0.0367,  0.0499],\n",
              "                        [ 0.0260,  0.0403, -0.0412]],\n",
              "              \n",
              "                       [[ 0.0354, -0.0416,  0.0602],\n",
              "                        [-0.0258,  0.0367,  0.0122],\n",
              "                        [ 0.0161, -0.0093,  0.0250]]],\n",
              "              \n",
              "              \n",
              "                      ...,\n",
              "              \n",
              "              \n",
              "                      [[[ 0.0160, -0.0551, -0.0284],\n",
              "                        [-0.0482, -0.0078,  0.0019],\n",
              "                        [-0.0406, -0.0475, -0.0120]],\n",
              "              \n",
              "                       [[ 0.0036,  0.0447,  0.0221],\n",
              "                        [-0.0354, -0.0562,  0.0119],\n",
              "                        [-0.0087,  0.0357, -0.0421]],\n",
              "              \n",
              "                       [[-0.0030, -0.0444, -0.0305],\n",
              "                        [-0.0359, -0.0127, -0.0051],\n",
              "                        [ 0.0566,  0.0539,  0.0474]],\n",
              "              \n",
              "                       ...,\n",
              "              \n",
              "                       [[ 0.0593,  0.0032, -0.0072],\n",
              "                        [ 0.0365, -0.0573, -0.0377],\n",
              "                        [ 0.0349, -0.0159,  0.0481]],\n",
              "              \n",
              "                       [[-0.0056,  0.0434,  0.0030],\n",
              "                        [ 0.0063, -0.0514, -0.0210],\n",
              "                        [ 0.0031,  0.0278,  0.0118]],\n",
              "              \n",
              "                       [[-0.0132,  0.0004,  0.0523],\n",
              "                        [ 0.0406,  0.0208, -0.0439],\n",
              "                        [-0.0205,  0.0389,  0.0548]]],\n",
              "              \n",
              "              \n",
              "                      [[[-0.0288,  0.0259, -0.0143],\n",
              "                        [ 0.0386, -0.0091, -0.0484],\n",
              "                        [-0.0602, -0.0023,  0.0179]],\n",
              "              \n",
              "                       [[-0.0359,  0.0479,  0.0289],\n",
              "                        [ 0.0367,  0.0280, -0.0587],\n",
              "                        [-0.0112,  0.0316,  0.0301]],\n",
              "              \n",
              "                       [[-0.0554, -0.0345,  0.0444],\n",
              "                        [-0.0504,  0.0461, -0.0117],\n",
              "                        [ 0.0045,  0.0297,  0.0164]],\n",
              "              \n",
              "                       ...,\n",
              "              \n",
              "                       [[-0.0112,  0.0314, -0.0525],\n",
              "                        [-0.0140, -0.0020,  0.0068],\n",
              "                        [-0.0101, -0.0429, -0.0558]],\n",
              "              \n",
              "                       [[ 0.0007,  0.0508, -0.0273],\n",
              "                        [ 0.0077,  0.0387, -0.0595],\n",
              "                        [ 0.0539,  0.0514, -0.0266]],\n",
              "              \n",
              "                       [[ 0.0530,  0.0416,  0.0506],\n",
              "                        [ 0.0527,  0.0140,  0.0334],\n",
              "                        [-0.0326,  0.0102,  0.0584]]],\n",
              "              \n",
              "              \n",
              "                      [[[-0.0210,  0.0143, -0.0311],\n",
              "                        [ 0.0225,  0.0198,  0.0459],\n",
              "                        [ 0.0003,  0.0291,  0.0369]],\n",
              "              \n",
              "                       [[ 0.0098, -0.0574,  0.0431],\n",
              "                        [-0.0390,  0.0282, -0.0455],\n",
              "                        [ 0.0177, -0.0114, -0.0545]],\n",
              "              \n",
              "                       [[ 0.0278, -0.0142, -0.0253],\n",
              "                        [-0.0189,  0.0414,  0.0358],\n",
              "                        [ 0.0166,  0.0255,  0.0313]],\n",
              "              \n",
              "                       ...,\n",
              "              \n",
              "                       [[ 0.0187, -0.0494,  0.0131],\n",
              "                        [ 0.0020,  0.0118, -0.0175],\n",
              "                        [ 0.0275,  0.0473,  0.0424]],\n",
              "              \n",
              "                       [[-0.0058, -0.0560,  0.0596],\n",
              "                        [ 0.0169,  0.0540,  0.0219],\n",
              "                        [ 0.0010,  0.0327,  0.0341]],\n",
              "              \n",
              "                       [[-0.0039,  0.0093, -0.0025],\n",
              "                        [ 0.0417,  0.0277, -0.0101],\n",
              "                        [ 0.0567,  0.0583,  0.0494]]]])),\n",
              "             ('conv_block_1.2.bias',\n",
              "              tensor([ 0.0109,  0.0037, -0.0318,  0.0444, -0.0437, -0.0525,  0.0184, -0.0569,\n",
              "                       0.0194, -0.0293, -0.0008, -0.0234,  0.0492, -0.0452,  0.0112,  0.0009,\n",
              "                      -0.0579,  0.0471,  0.0120, -0.0488, -0.0604,  0.0269,  0.0500, -0.0139,\n",
              "                      -0.0180, -0.0519,  0.0411, -0.0229, -0.0280,  0.0232])),\n",
              "             ('conv_block_2.0.weight',\n",
              "              tensor([[[[ 0.0532,  0.0282,  0.0176],\n",
              "                        [ 0.0539,  0.0026,  0.0094],\n",
              "                        [-0.0044, -0.0381,  0.0112]],\n",
              "              \n",
              "                       [[-0.0316,  0.0352, -0.0420],\n",
              "                        [-0.0497, -0.0118,  0.0452],\n",
              "                        [-0.0462, -0.0194, -0.0047]],\n",
              "              \n",
              "                       [[-0.0266,  0.0288,  0.0532],\n",
              "                        [ 0.0329, -0.0128, -0.0478],\n",
              "                        [-0.0502, -0.0146, -0.0192]],\n",
              "              \n",
              "                       ...,\n",
              "              \n",
              "                       [[-0.0053, -0.0590,  0.0108],\n",
              "                        [-0.0483,  0.0055, -0.0145],\n",
              "                        [ 0.0387, -0.0244,  0.0433]],\n",
              "              \n",
              "                       [[-0.0145, -0.0118, -0.0554],\n",
              "                        [ 0.0529,  0.0053, -0.0548],\n",
              "                        [ 0.0034,  0.0249, -0.0129]],\n",
              "              \n",
              "                       [[ 0.0497,  0.0298, -0.0078],\n",
              "                        [ 0.0608,  0.0429, -0.0075],\n",
              "                        [-0.0053,  0.0187, -0.0212]]],\n",
              "              \n",
              "              \n",
              "                      [[[ 0.0375, -0.0586, -0.0326],\n",
              "                        [ 0.0279, -0.0584, -0.0202],\n",
              "                        [-0.0324,  0.0330,  0.0031]],\n",
              "              \n",
              "                       [[-0.0432,  0.0490, -0.0278],\n",
              "                        [-0.0067,  0.0205, -0.0406],\n",
              "                        [-0.0056, -0.0205, -0.0144]],\n",
              "              \n",
              "                       [[-0.0221,  0.0390, -0.0299],\n",
              "                        [-0.0411,  0.0263,  0.0197],\n",
              "                        [ 0.0006,  0.0050,  0.0597]],\n",
              "              \n",
              "                       ...,\n",
              "              \n",
              "                       [[ 0.0275, -0.0208,  0.0268],\n",
              "                        [ 0.0599,  0.0030, -0.0219],\n",
              "                        [-0.0481,  0.0430, -0.0139]],\n",
              "              \n",
              "                       [[-0.0477,  0.0352,  0.0121],\n",
              "                        [-0.0246, -0.0599,  0.0076],\n",
              "                        [-0.0180, -0.0106, -0.0203]],\n",
              "              \n",
              "                       [[ 0.0501,  0.0323,  0.0482],\n",
              "                        [ 0.0230,  0.0174,  0.0601],\n",
              "                        [-0.0002,  0.0350,  0.0247]]],\n",
              "              \n",
              "              \n",
              "                      [[[-0.0582,  0.0413, -0.0060],\n",
              "                        [-0.0411,  0.0410, -0.0493],\n",
              "                        [ 0.0285, -0.0501, -0.0175]],\n",
              "              \n",
              "                       [[-0.0571,  0.0435,  0.0150],\n",
              "                        [ 0.0497,  0.0186, -0.0302],\n",
              "                        [ 0.0092,  0.0412, -0.0471]],\n",
              "              \n",
              "                       [[-0.0406, -0.0155, -0.0380],\n",
              "                        [-0.0111,  0.0576,  0.0338],\n",
              "                        [-0.0493, -0.0328,  0.0488]],\n",
              "              \n",
              "                       ...,\n",
              "              \n",
              "                       [[ 0.0182,  0.0365, -0.0152],\n",
              "                        [ 0.0378, -0.0315, -0.0086],\n",
              "                        [ 0.0056,  0.0421,  0.0268]],\n",
              "              \n",
              "                       [[ 0.0587, -0.0327, -0.0048],\n",
              "                        [-0.0051,  0.0496,  0.0575],\n",
              "                        [ 0.0154, -0.0492, -0.0441]],\n",
              "              \n",
              "                       [[ 0.0112, -0.0536, -0.0212],\n",
              "                        [-0.0456,  0.0312, -0.0084],\n",
              "                        [-0.0476,  0.0398, -0.0540]]],\n",
              "              \n",
              "              \n",
              "                      ...,\n",
              "              \n",
              "              \n",
              "                      [[[-0.0408, -0.0354,  0.0270],\n",
              "                        [ 0.0263, -0.0176, -0.0415],\n",
              "                        [ 0.0095,  0.0587,  0.0599]],\n",
              "              \n",
              "                       [[ 0.0499, -0.0456,  0.0403],\n",
              "                        [ 0.0111, -0.0494,  0.0039],\n",
              "                        [-0.0588,  0.0131, -0.0335]],\n",
              "              \n",
              "                       [[-0.0409,  0.0030,  0.0410],\n",
              "                        [ 0.0342, -0.0377,  0.0346],\n",
              "                        [ 0.0226, -0.0406, -0.0157]],\n",
              "              \n",
              "                       ...,\n",
              "              \n",
              "                       [[ 0.0569, -0.0361, -0.0016],\n",
              "                        [-0.0305, -0.0255, -0.0243],\n",
              "                        [ 0.0121, -0.0374,  0.0251]],\n",
              "              \n",
              "                       [[ 0.0234,  0.0337, -0.0566],\n",
              "                        [-0.0360,  0.0366,  0.0486],\n",
              "                        [ 0.0228, -0.0526,  0.0149]],\n",
              "              \n",
              "                       [[ 0.0411, -0.0028,  0.0371],\n",
              "                        [-0.0430,  0.0362,  0.0121],\n",
              "                        [-0.0215,  0.0489, -0.0552]]],\n",
              "              \n",
              "              \n",
              "                      [[[ 0.0522,  0.0138,  0.0167],\n",
              "                        [-0.0067,  0.0078,  0.0429],\n",
              "                        [ 0.0073,  0.0071,  0.0301]],\n",
              "              \n",
              "                       [[-0.0278, -0.0136,  0.0237],\n",
              "                        [ 0.0541, -0.0112,  0.0016],\n",
              "                        [ 0.0256, -0.0391, -0.0487]],\n",
              "              \n",
              "                       [[ 0.0035,  0.0108, -0.0470],\n",
              "                        [ 0.0592,  0.0212, -0.0370],\n",
              "                        [ 0.0469,  0.0171,  0.0047]],\n",
              "              \n",
              "                       ...,\n",
              "              \n",
              "                       [[-0.0527,  0.0607,  0.0198],\n",
              "                        [ 0.0557, -0.0234,  0.0167],\n",
              "                        [-0.0320, -0.0320, -0.0278]],\n",
              "              \n",
              "                       [[ 0.0608,  0.0444, -0.0375],\n",
              "                        [-0.0429,  0.0201, -0.0144],\n",
              "                        [ 0.0029,  0.0078, -0.0533]],\n",
              "              \n",
              "                       [[ 0.0134, -0.0005, -0.0426],\n",
              "                        [-0.0602,  0.0311, -0.0556],\n",
              "                        [-0.0274,  0.0370, -0.0406]]],\n",
              "              \n",
              "              \n",
              "                      [[[-0.0288, -0.0383,  0.0358],\n",
              "                        [ 0.0188,  0.0063,  0.0214],\n",
              "                        [ 0.0174, -0.0129, -0.0056]],\n",
              "              \n",
              "                       [[-0.0381, -0.0286,  0.0009],\n",
              "                        [-0.0074,  0.0153,  0.0289],\n",
              "                        [ 0.0467,  0.0583, -0.0046]],\n",
              "              \n",
              "                       [[ 0.0240, -0.0493,  0.0352],\n",
              "                        [-0.0163, -0.0483, -0.0474],\n",
              "                        [-0.0507, -0.0281,  0.0278]],\n",
              "              \n",
              "                       ...,\n",
              "              \n",
              "                       [[-0.0202,  0.0282, -0.0262],\n",
              "                        [-0.0095, -0.0262,  0.0227],\n",
              "                        [ 0.0607, -0.0459, -0.0043]],\n",
              "              \n",
              "                       [[-0.0043, -0.0305, -0.0434],\n",
              "                        [-0.0260, -0.0476,  0.0462],\n",
              "                        [-0.0431,  0.0371,  0.0503]],\n",
              "              \n",
              "                       [[-0.0112,  0.0566,  0.0440],\n",
              "                        [-0.0424,  0.0347,  0.0156],\n",
              "                        [ 0.0479, -0.0462,  0.0474]]]])),\n",
              "             ('conv_block_2.0.bias',\n",
              "              tensor([ 0.0086,  0.0297, -0.0338,  0.0401, -0.0044,  0.0502,  0.0052,  0.0378,\n",
              "                      -0.0385, -0.0539,  0.0211,  0.0322,  0.0168,  0.0191,  0.0401, -0.0313,\n",
              "                       0.0326,  0.0292, -0.0258, -0.0362, -0.0604,  0.0448, -0.0009,  0.0139,\n",
              "                      -0.0431, -0.0458,  0.0499,  0.0429,  0.0329,  0.0487])),\n",
              "             ('conv_block_2.2.weight',\n",
              "              tensor([[[[ 4.9008e-02,  3.5948e-02,  4.3959e-02],\n",
              "                        [-7.8180e-03,  1.5851e-02, -5.2307e-02],\n",
              "                        [-2.1813e-02, -5.6859e-03, -2.9671e-03]],\n",
              "              \n",
              "                       [[ 6.0022e-02,  4.9656e-02,  1.9164e-02],\n",
              "                        [ 5.6748e-02, -3.1027e-02,  1.1832e-02],\n",
              "                        [-4.8275e-02, -5.1769e-02,  3.2538e-02]],\n",
              "              \n",
              "                       [[ 1.9540e-02, -3.2756e-03, -3.9378e-02],\n",
              "                        [ 4.3872e-02, -4.6687e-03,  4.1548e-02],\n",
              "                        [-4.2047e-02,  4.6770e-02, -2.8745e-03]],\n",
              "              \n",
              "                       ...,\n",
              "              \n",
              "                       [[ 1.1785e-02, -2.0299e-02,  1.8204e-02],\n",
              "                        [ 3.9722e-02, -3.2880e-02, -1.8552e-02],\n",
              "                        [-4.6292e-02,  9.4533e-03,  3.6429e-02]],\n",
              "              \n",
              "                       [[ 5.5044e-02,  3.1910e-03,  3.9630e-02],\n",
              "                        [-5.8774e-02, -1.3227e-03, -1.1482e-02],\n",
              "                        [-2.8025e-02,  5.6339e-02,  3.8002e-02]],\n",
              "              \n",
              "                       [[-5.0716e-02, -5.5266e-02, -2.8510e-02],\n",
              "                        [ 2.0658e-02,  2.8873e-02,  3.1504e-02],\n",
              "                        [ 4.7045e-02, -3.8951e-02,  5.1303e-03]]],\n",
              "              \n",
              "              \n",
              "                      [[[-2.7121e-02, -2.9523e-02,  5.8871e-04],\n",
              "                        [-5.3562e-03, -4.9308e-02, -8.8513e-04],\n",
              "                        [ 2.9264e-02,  5.4580e-02, -1.6447e-02]],\n",
              "              \n",
              "                       [[ 4.1154e-02, -1.3612e-02, -4.4767e-02],\n",
              "                        [ 5.2639e-02, -1.4384e-02, -1.4140e-02],\n",
              "                        [-1.0296e-02,  5.4853e-02, -2.5991e-02]],\n",
              "              \n",
              "                       [[-1.6161e-02,  3.5450e-03, -3.9845e-02],\n",
              "                        [ 2.3733e-02,  5.1238e-02,  2.2004e-02],\n",
              "                        [-1.4635e-02, -1.1644e-02, -5.9646e-02]],\n",
              "              \n",
              "                       ...,\n",
              "              \n",
              "                       [[-5.4466e-02, -3.4550e-02,  2.4676e-02],\n",
              "                        [ 1.8467e-03,  5.2556e-02,  3.6209e-02],\n",
              "                        [-1.2965e-02,  5.8198e-02, -4.3676e-02]],\n",
              "              \n",
              "                       [[ 1.1342e-02,  1.9423e-02,  4.7573e-02],\n",
              "                        [ 5.9544e-02,  2.9677e-02, -2.7121e-02],\n",
              "                        [ 4.8935e-02,  4.1898e-02, -1.1995e-03]],\n",
              "              \n",
              "                       [[ 4.3689e-02,  9.6952e-03, -5.2921e-03],\n",
              "                        [ 1.8802e-02,  1.7010e-04, -1.7151e-02],\n",
              "                        [ 8.8346e-03, -4.0550e-04, -4.1812e-02]]],\n",
              "              \n",
              "              \n",
              "                      [[[-4.4595e-02,  1.9998e-02, -2.3699e-02],\n",
              "                        [ 1.4884e-03,  5.3744e-02,  4.4897e-02],\n",
              "                        [ 3.3811e-02,  3.2407e-02,  4.1209e-02]],\n",
              "              \n",
              "                       [[-4.0813e-02,  5.6631e-02, -4.4875e-02],\n",
              "                        [-3.9437e-02, -2.4930e-02,  5.9480e-02],\n",
              "                        [ 3.4067e-02,  1.7057e-02,  3.5284e-02]],\n",
              "              \n",
              "                       [[-5.8124e-02, -5.8045e-02,  1.8961e-02],\n",
              "                        [-1.6641e-02,  2.9124e-02, -4.3192e-02],\n",
              "                        [ 5.7620e-02, -5.3091e-02,  3.1017e-02]],\n",
              "              \n",
              "                       ...,\n",
              "              \n",
              "                       [[-3.8392e-02, -1.2380e-02,  3.0558e-02],\n",
              "                        [ 4.0059e-02,  3.2967e-02, -1.4760e-02],\n",
              "                        [ 1.3878e-02, -2.0831e-02,  5.1687e-02]],\n",
              "              \n",
              "                       [[ 3.4571e-02, -5.4918e-02,  2.9561e-02],\n",
              "                        [ 5.9742e-02,  1.6274e-02, -4.8272e-02],\n",
              "                        [ 3.9147e-02,  3.2582e-03, -1.6329e-02]],\n",
              "              \n",
              "                       [[ 2.6560e-02,  4.7251e-02,  2.7617e-02],\n",
              "                        [-4.7985e-02,  2.5399e-02, -3.7554e-02],\n",
              "                        [-5.6844e-02, -3.0184e-02,  3.2014e-02]]],\n",
              "              \n",
              "              \n",
              "                      ...,\n",
              "              \n",
              "              \n",
              "                      [[[ 5.4565e-02, -2.2774e-02, -5.3975e-02],\n",
              "                        [ 3.9394e-02, -1.4320e-02, -2.3957e-02],\n",
              "                        [-2.8840e-02,  5.6596e-02, -4.7353e-02]],\n",
              "              \n",
              "                       [[ 1.3218e-02,  1.2095e-02, -2.3727e-02],\n",
              "                        [ 3.4624e-02,  3.5211e-02,  4.0941e-02],\n",
              "                        [ 1.6399e-02,  1.6169e-02,  1.7237e-02]],\n",
              "              \n",
              "                       [[-1.9400e-02, -4.8627e-02,  1.7819e-03],\n",
              "                        [ 5.6261e-03,  3.7601e-02,  1.0253e-02],\n",
              "                        [ 1.7015e-03, -2.1564e-02,  5.0945e-02]],\n",
              "              \n",
              "                       ...,\n",
              "              \n",
              "                       [[-2.3510e-02,  2.5537e-02,  3.2634e-02],\n",
              "                        [ 5.6700e-02, -1.7970e-02,  5.4145e-02],\n",
              "                        [ 2.3816e-02, -4.7762e-02, -5.1767e-02]],\n",
              "              \n",
              "                       [[-8.1736e-03,  5.2930e-02, -7.8116e-04],\n",
              "                        [-3.8804e-02,  3.5378e-02, -5.9440e-02],\n",
              "                        [ 4.6107e-02, -7.2214e-04,  3.3787e-03]],\n",
              "              \n",
              "                       [[-2.2042e-02,  8.5271e-03,  2.4251e-03],\n",
              "                        [ 4.7711e-02,  5.2812e-02,  2.5977e-02],\n",
              "                        [-7.8569e-03, -3.5168e-04, -3.9301e-02]]],\n",
              "              \n",
              "              \n",
              "                      [[[ 3.5195e-02, -1.4829e-02, -6.0082e-02],\n",
              "                        [-2.0486e-02, -4.2921e-02, -4.8979e-02],\n",
              "                        [ 1.0011e-02,  4.4359e-03, -3.3608e-02]],\n",
              "              \n",
              "                       [[-4.4059e-02,  1.8958e-02,  1.2567e-02],\n",
              "                        [ 4.1006e-02,  3.1361e-02, -3.9699e-02],\n",
              "                        [ 3.0465e-02, -5.5814e-02, -5.3415e-02]],\n",
              "              \n",
              "                       [[ 2.4240e-02,  5.5508e-02,  2.7731e-02],\n",
              "                        [-2.9137e-03, -2.9212e-02,  5.9267e-02],\n",
              "                        [-4.0350e-02,  5.4756e-02, -3.6302e-02]],\n",
              "              \n",
              "                       ...,\n",
              "              \n",
              "                       [[ 3.0338e-02,  3.6154e-02,  1.0337e-02],\n",
              "                        [ 4.0732e-02,  5.7220e-02,  1.2979e-02],\n",
              "                        [ 2.5861e-02,  3.8354e-02, -2.8787e-05]],\n",
              "              \n",
              "                       [[ 5.2315e-02,  1.4734e-02, -3.7104e-02],\n",
              "                        [-4.6215e-02,  1.5487e-02, -4.8096e-02],\n",
              "                        [-5.4918e-02,  5.6550e-02,  4.5936e-02]],\n",
              "              \n",
              "                       [[-1.6454e-02,  3.0336e-02,  2.0598e-02],\n",
              "                        [ 5.6272e-02,  1.8561e-02,  2.8165e-02],\n",
              "                        [-4.3522e-02,  2.0115e-02, -4.6888e-02]]],\n",
              "              \n",
              "              \n",
              "                      [[[-4.6490e-02,  3.3503e-02, -2.9783e-02],\n",
              "                        [ 4.7145e-02, -1.5371e-02,  3.1624e-02],\n",
              "                        [ 5.6710e-02,  7.9085e-03,  5.5266e-02]],\n",
              "              \n",
              "                       [[-3.8335e-02,  3.2284e-02,  1.9127e-02],\n",
              "                        [ 4.6304e-02,  5.5983e-02, -1.2647e-02],\n",
              "                        [ 1.3068e-02, -3.0714e-02,  2.5829e-02]],\n",
              "              \n",
              "                       [[-2.3884e-04, -2.8044e-02, -3.3629e-02],\n",
              "                        [ 1.5176e-02,  5.4190e-02, -5.3870e-02],\n",
              "                        [ 3.9295e-02,  4.2817e-02, -5.2620e-02]],\n",
              "              \n",
              "                       ...,\n",
              "              \n",
              "                       [[-3.1012e-02, -3.9836e-02,  4.4946e-02],\n",
              "                        [-4.5517e-02, -3.8290e-02, -2.0122e-02],\n",
              "                        [ 4.3921e-02,  1.9428e-03, -2.1806e-02]],\n",
              "              \n",
              "                       [[-4.2174e-02,  1.0574e-02,  5.1464e-02],\n",
              "                        [-4.8762e-02, -1.6323e-02, -3.4813e-02],\n",
              "                        [-6.1644e-03, -3.7920e-03, -2.9336e-02]],\n",
              "              \n",
              "                       [[ 3.4584e-02,  1.5575e-02, -5.5167e-02],\n",
              "                        [ 3.9854e-02, -1.7389e-02, -1.3998e-03],\n",
              "                        [ 1.0443e-02,  3.9581e-02,  7.1743e-03]]]])),\n",
              "             ('conv_block_2.2.bias',\n",
              "              tensor([ 0.0514,  0.0027, -0.0216,  0.0509,  0.0479, -0.0119,  0.0463,  0.0156,\n",
              "                       0.0250, -0.0301, -0.0575,  0.0237, -0.0345,  0.0190, -0.0454, -0.0180,\n",
              "                      -0.0527, -0.0360, -0.0074, -0.0414,  0.0476,  0.0121,  0.0409,  0.0051,\n",
              "                      -0.0185, -0.0592, -0.0060, -0.0162,  0.0063, -0.0402])),\n",
              "             ('classifier.1.weight',\n",
              "              tensor([[ 0.0198, -0.0011,  0.0217,  ...,  0.0200,  0.0151, -0.0141],\n",
              "                      [ 0.0192,  0.0244, -0.0035,  ...,  0.0019,  0.0153,  0.0191],\n",
              "                      [-0.0215, -0.0119, -0.0102,  ...,  0.0009, -0.0017,  0.0093],\n",
              "                      ...,\n",
              "                      [ 0.0256,  0.0230, -0.0242,  ..., -0.0070, -0.0222,  0.0049],\n",
              "                      [-0.0006, -0.0195,  0.0201,  ...,  0.0090,  0.0176,  0.0194],\n",
              "                      [ 0.0249, -0.0145, -0.0205,  ..., -0.0231,  0.0215,  0.0075]])),\n",
              "             ('classifier.1.bias',\n",
              "              tensor([-0.0181,  0.0061, -0.0002, -0.0169,  0.0206, -0.0181, -0.0088, -0.0191,\n",
              "                       0.0127, -0.0186]))])"
            ]
          },
          "metadata": {},
          "execution_count": 38
        }
      ]
    },
    {
      "source": [
        "# Instead of:\n",
        "# from helper_functions import train_step, test_step\n",
        "\n",
        "# Define the train_step and test_step functions directly in your notebook\n",
        "# if they are not present in helper_functions.py:\n",
        "def train_step(model, data_loader, loss_fn, optimizer, accuracy_fn):\n",
        "    \"\"\"Trains a PyTorch model for a single epoch.\n",
        "\n",
        "    Args:\n",
        "        model: The PyTorch model to be trained.\n",
        "        data_loader: A DataLoader for the training data.\n",
        "        loss_fn: The loss function to use.\n",
        "        optimizer: The optimizer to use.\n",
        "        accuracy_fn: A function to calculate accuracy.\n",
        "    \"\"\"\n",
        "    model.train()\n",
        "    train_loss, train_acc = 0, 0\n",
        "    for X, y in data_loader:\n",
        "        # 1. Forward pass\n",
        "        y_pred = model(X)\n",
        "\n",
        "        # 2. Calculate loss\n",
        "        loss = loss_fn(y_pred, y)\n",
        "        train_loss += loss\n",
        "        train_acc += accuracy_fn(y_true=y, y_pred=y_pred.argmax(dim=1))\n",
        "\n",
        "        # 3. Optimizer zero grad\n",
        "        optimizer.zero_grad()\n",
        "\n",
        "        # 4. Loss backward\n",
        "        loss.backward()\n",
        "\n",
        "        # 5. Optimizer step\n",
        "        optimizer.step()\n",
        "\n",
        "    # Calculate average loss and accuracy\n",
        "    train_loss /= len(data_loader)\n",
        "    train_acc /= len(data_loader)\n",
        "    print(f\"Train loss: {train_loss:.5f} | Train accuracy: {train_acc:.2f}%\")\n",
        "\n",
        "def test_step(model, data_loader, loss_fn, accuracy_fn):\n",
        "    \"\"\"Evaluates a PyTorch model on a test dataset.\n",
        "\n",
        "    Args:\n",
        "        model: The PyTorch model to be evaluated.\n",
        "        data_loader: A DataLoader for the test data.\n",
        "        loss_fn: The loss function to use.\n",
        "        accuracy_fn: A function to calculate accuracy.\n",
        "    \"\"\"\n",
        "    model.eval()\n",
        "    test_loss, test_acc = 0, 0\n",
        "    with torch.inference_mode():\n",
        "        for X, y in data_loader:\n",
        "            # 1. Forward pass\n",
        "            test_pred = model(X)\n",
        "            # 2. Calculate and accumulate loss and accuracy\n",
        "            test_loss += loss_fn(test_pred, y).item()\n",
        "            test_acc += accuracy_fn(y_true=y, y_pred=test_pred.argmax(dim=1))\n",
        "\n",
        "    # Calculate average loss and accuracy\n",
        "    test_loss /= len(data_loader)\n",
        "    test_acc /= len(data_loader)\n",
        "    print(f\"Test loss: {test_loss:.5f} | Test accuracy: {test_acc:.2f}%\")"
      ],
      "cell_type": "code",
      "metadata": {
        "id": "gNaYRBLlONV2"
      },
      "execution_count": null,
      "outputs": []
    },
    {
      "cell_type": "code",
      "source": [
        "epochs = 5\n",
        "for epoch in tqdm(range(epochs)):\n",
        "  print(f\"epoch {epoch}\")\n",
        "  train_step(  # Now calling the imported or previously defined train_step function\n",
        "      model = model_2,\n",
        "      data_loader = train_dataloader,\n",
        "      loss_fn = loss_fn,\n",
        "      optimizer = optimizer,\n",
        "      accuracy_fn = accuracy_fn\n",
        "  )\n",
        "  test_step(  # Now calling the imported or previously defined test_step function\n",
        "      model = model_2,\n",
        "      data_loader = test_dataloader,\n",
        "      loss_fn = loss_fn,\n",
        "      accuracy_fn = accuracy_fn\n",
        "  )"
      ],
      "metadata": {
        "colab": {
          "base_uri": "https://localhost:8080/",
          "height": 317,
          "referenced_widgets": [
            "30ecc2a92078400d844684a073d674f5",
            "ef9dde819d8045d6a16883f9197d351b",
            "9fb9830339aa4cc2987ed1133379069a",
            "6e295cbb4ae84702a63a11c85f9d6cd8",
            "a1c1b78512664d5b8a2f25b402359d15",
            "e0d75909d06745adbf02191f9a423139",
            "575aad62ca2e4758a7a656ef22dc037c",
            "0f148c4736bf4f81a9c4d52dea1ada00",
            "43bbbffeb20d439682d7eb38da0c5c5b",
            "a8682ed8a1544faa9586ced32fe2b9b7",
            "5bafbea86038491ba4aaddba9ec4b10f"
          ]
        },
        "id": "-QuWTtKRNcpH",
        "outputId": "38e34438-5051-486a-8049-862fb67bc48d"
      },
      "execution_count": null,
      "outputs": [
        {
          "output_type": "display_data",
          "data": {
            "text/plain": [
              "  0%|          | 0/5 [00:00<?, ?it/s]"
            ],
            "application/vnd.jupyter.widget-view+json": {
              "version_major": 2,
              "version_minor": 0,
              "model_id": "30ecc2a92078400d844684a073d674f5"
            }
          },
          "metadata": {}
        },
        {
          "output_type": "stream",
          "name": "stdout",
          "text": [
            "epoch 0\n",
            "Train loss: 1.01199 | Train accuracy: 63.43%\n",
            "Test loss: 0.59574 | Test accuracy: 78.18%\n",
            "epoch 1\n",
            "Train loss: 0.48391 | Train accuracy: 82.55%\n",
            "Test loss: 0.43227 | Test accuracy: 84.90%\n",
            "epoch 2\n",
            "Train loss: 0.40832 | Train accuracy: 85.34%\n",
            "Test loss: 0.41749 | Test accuracy: 84.79%\n",
            "epoch 3\n",
            "Train loss: 0.36868 | Train accuracy: 86.82%\n",
            "Test loss: 0.36594 | Test accuracy: 86.98%\n",
            "epoch 4\n",
            "Train loss: 0.34016 | Train accuracy: 87.79%\n",
            "Test loss: 0.36104 | Test accuracy: 87.21%\n"
          ]
        }
      ]
    },
    {
      "cell_type": "code",
      "source": [
        "model_2_results = eval_model(\n",
        "    model = model_2,\n",
        "    data_loader = test_dataloader,\n",
        "    loss_fn = loss_fn,\n",
        "    accuracy_fn = accuracy_fn\n",
        ")\n"
      ],
      "metadata": {
        "id": "TpZgIHYeOt3d"
      },
      "execution_count": null,
      "outputs": []
    },
    {
      "cell_type": "code",
      "source": [
        "model_2_results"
      ],
      "metadata": {
        "colab": {
          "base_uri": "https://localhost:8080/"
        },
        "id": "m74C4-HwRAaC",
        "outputId": "dc08e4dc-030a-49ec-af1c-fea253ca94e7"
      },
      "execution_count": null,
      "outputs": [
        {
          "output_type": "execute_result",
          "data": {
            "text/plain": [
              "{'model_name': 'FashionMNISTV1',\n",
              " 'model_loss': 0.36104363203048706,\n",
              " 'model_acc': 87.21046325878594}"
            ]
          },
          "metadata": {},
          "execution_count": 42
        }
      ]
    },
    {
      "cell_type": "code",
      "source": [
        "import pandas as pd\n",
        "compare_results = pd.DataFrame(\n",
        "    data = [model_0_results,model_2_results]\n",
        ")\n",
        "compare_results"
      ],
      "metadata": {
        "colab": {
          "base_uri": "https://localhost:8080/",
          "height": 125
        },
        "id": "351XWJ_JRE0N",
        "outputId": "89fc6492-d9ad-45c0-bb89-282fce2d09ea"
      },
      "execution_count": null,
      "outputs": [
        {
          "output_type": "execute_result",
          "data": {
            "text/plain": [
              "       model_name  model_loss  model_acc\n",
              "0  FashionMNISTV0    0.513675  81.998802\n",
              "1  FashionMNISTV1    0.361044  87.210463"
            ],
            "text/html": [
              "\n",
              "  <div id=\"df-6094d1de-5a11-44de-8a3f-059ebf8ee3de\" class=\"colab-df-container\">\n",
              "    <div>\n",
              "<style scoped>\n",
              "    .dataframe tbody tr th:only-of-type {\n",
              "        vertical-align: middle;\n",
              "    }\n",
              "\n",
              "    .dataframe tbody tr th {\n",
              "        vertical-align: top;\n",
              "    }\n",
              "\n",
              "    .dataframe thead th {\n",
              "        text-align: right;\n",
              "    }\n",
              "</style>\n",
              "<table border=\"1\" class=\"dataframe\">\n",
              "  <thead>\n",
              "    <tr style=\"text-align: right;\">\n",
              "      <th></th>\n",
              "      <th>model_name</th>\n",
              "      <th>model_loss</th>\n",
              "      <th>model_acc</th>\n",
              "    </tr>\n",
              "  </thead>\n",
              "  <tbody>\n",
              "    <tr>\n",
              "      <th>0</th>\n",
              "      <td>FashionMNISTV0</td>\n",
              "      <td>0.513675</td>\n",
              "      <td>81.998802</td>\n",
              "    </tr>\n",
              "    <tr>\n",
              "      <th>1</th>\n",
              "      <td>FashionMNISTV1</td>\n",
              "      <td>0.361044</td>\n",
              "      <td>87.210463</td>\n",
              "    </tr>\n",
              "  </tbody>\n",
              "</table>\n",
              "</div>\n",
              "    <div class=\"colab-df-buttons\">\n",
              "\n",
              "  <div class=\"colab-df-container\">\n",
              "    <button class=\"colab-df-convert\" onclick=\"convertToInteractive('df-6094d1de-5a11-44de-8a3f-059ebf8ee3de')\"\n",
              "            title=\"Convert this dataframe to an interactive table.\"\n",
              "            style=\"display:none;\">\n",
              "\n",
              "  <svg xmlns=\"http://www.w3.org/2000/svg\" height=\"24px\" viewBox=\"0 -960 960 960\">\n",
              "    <path d=\"M120-120v-720h720v720H120Zm60-500h600v-160H180v160Zm220 220h160v-160H400v160Zm0 220h160v-160H400v160ZM180-400h160v-160H180v160Zm440 0h160v-160H620v160ZM180-180h160v-160H180v160Zm440 0h160v-160H620v160Z\"/>\n",
              "  </svg>\n",
              "    </button>\n",
              "\n",
              "  <style>\n",
              "    .colab-df-container {\n",
              "      display:flex;\n",
              "      gap: 12px;\n",
              "    }\n",
              "\n",
              "    .colab-df-convert {\n",
              "      background-color: #E8F0FE;\n",
              "      border: none;\n",
              "      border-radius: 50%;\n",
              "      cursor: pointer;\n",
              "      display: none;\n",
              "      fill: #1967D2;\n",
              "      height: 32px;\n",
              "      padding: 0 0 0 0;\n",
              "      width: 32px;\n",
              "    }\n",
              "\n",
              "    .colab-df-convert:hover {\n",
              "      background-color: #E2EBFA;\n",
              "      box-shadow: 0px 1px 2px rgba(60, 64, 67, 0.3), 0px 1px 3px 1px rgba(60, 64, 67, 0.15);\n",
              "      fill: #174EA6;\n",
              "    }\n",
              "\n",
              "    .colab-df-buttons div {\n",
              "      margin-bottom: 4px;\n",
              "    }\n",
              "\n",
              "    [theme=dark] .colab-df-convert {\n",
              "      background-color: #3B4455;\n",
              "      fill: #D2E3FC;\n",
              "    }\n",
              "\n",
              "    [theme=dark] .colab-df-convert:hover {\n",
              "      background-color: #434B5C;\n",
              "      box-shadow: 0px 1px 3px 1px rgba(0, 0, 0, 0.15);\n",
              "      filter: drop-shadow(0px 1px 2px rgba(0, 0, 0, 0.3));\n",
              "      fill: #FFFFFF;\n",
              "    }\n",
              "  </style>\n",
              "\n",
              "    <script>\n",
              "      const buttonEl =\n",
              "        document.querySelector('#df-6094d1de-5a11-44de-8a3f-059ebf8ee3de button.colab-df-convert');\n",
              "      buttonEl.style.display =\n",
              "        google.colab.kernel.accessAllowed ? 'block' : 'none';\n",
              "\n",
              "      async function convertToInteractive(key) {\n",
              "        const element = document.querySelector('#df-6094d1de-5a11-44de-8a3f-059ebf8ee3de');\n",
              "        const dataTable =\n",
              "          await google.colab.kernel.invokeFunction('convertToInteractive',\n",
              "                                                    [key], {});\n",
              "        if (!dataTable) return;\n",
              "\n",
              "        const docLinkHtml = 'Like what you see? Visit the ' +\n",
              "          '<a target=\"_blank\" href=https://colab.research.google.com/notebooks/data_table.ipynb>data table notebook</a>'\n",
              "          + ' to learn more about interactive tables.';\n",
              "        element.innerHTML = '';\n",
              "        dataTable['output_type'] = 'display_data';\n",
              "        await google.colab.output.renderOutput(dataTable, element);\n",
              "        const docLink = document.createElement('div');\n",
              "        docLink.innerHTML = docLinkHtml;\n",
              "        element.appendChild(docLink);\n",
              "      }\n",
              "    </script>\n",
              "  </div>\n",
              "\n",
              "\n",
              "<div id=\"df-21fad5bb-f8ed-4d38-86cb-db67c8ba0ddf\">\n",
              "  <button class=\"colab-df-quickchart\" onclick=\"quickchart('df-21fad5bb-f8ed-4d38-86cb-db67c8ba0ddf')\"\n",
              "            title=\"Suggest charts\"\n",
              "            style=\"display:none;\">\n",
              "\n",
              "<svg xmlns=\"http://www.w3.org/2000/svg\" height=\"24px\"viewBox=\"0 0 24 24\"\n",
              "     width=\"24px\">\n",
              "    <g>\n",
              "        <path d=\"M19 3H5c-1.1 0-2 .9-2 2v14c0 1.1.9 2 2 2h14c1.1 0 2-.9 2-2V5c0-1.1-.9-2-2-2zM9 17H7v-7h2v7zm4 0h-2V7h2v10zm4 0h-2v-4h2v4z\"/>\n",
              "    </g>\n",
              "</svg>\n",
              "  </button>\n",
              "\n",
              "<style>\n",
              "  .colab-df-quickchart {\n",
              "      --bg-color: #E8F0FE;\n",
              "      --fill-color: #1967D2;\n",
              "      --hover-bg-color: #E2EBFA;\n",
              "      --hover-fill-color: #174EA6;\n",
              "      --disabled-fill-color: #AAA;\n",
              "      --disabled-bg-color: #DDD;\n",
              "  }\n",
              "\n",
              "  [theme=dark] .colab-df-quickchart {\n",
              "      --bg-color: #3B4455;\n",
              "      --fill-color: #D2E3FC;\n",
              "      --hover-bg-color: #434B5C;\n",
              "      --hover-fill-color: #FFFFFF;\n",
              "      --disabled-bg-color: #3B4455;\n",
              "      --disabled-fill-color: #666;\n",
              "  }\n",
              "\n",
              "  .colab-df-quickchart {\n",
              "    background-color: var(--bg-color);\n",
              "    border: none;\n",
              "    border-radius: 50%;\n",
              "    cursor: pointer;\n",
              "    display: none;\n",
              "    fill: var(--fill-color);\n",
              "    height: 32px;\n",
              "    padding: 0;\n",
              "    width: 32px;\n",
              "  }\n",
              "\n",
              "  .colab-df-quickchart:hover {\n",
              "    background-color: var(--hover-bg-color);\n",
              "    box-shadow: 0 1px 2px rgba(60, 64, 67, 0.3), 0 1px 3px 1px rgba(60, 64, 67, 0.15);\n",
              "    fill: var(--button-hover-fill-color);\n",
              "  }\n",
              "\n",
              "  .colab-df-quickchart-complete:disabled,\n",
              "  .colab-df-quickchart-complete:disabled:hover {\n",
              "    background-color: var(--disabled-bg-color);\n",
              "    fill: var(--disabled-fill-color);\n",
              "    box-shadow: none;\n",
              "  }\n",
              "\n",
              "  .colab-df-spinner {\n",
              "    border: 2px solid var(--fill-color);\n",
              "    border-color: transparent;\n",
              "    border-bottom-color: var(--fill-color);\n",
              "    animation:\n",
              "      spin 1s steps(1) infinite;\n",
              "  }\n",
              "\n",
              "  @keyframes spin {\n",
              "    0% {\n",
              "      border-color: transparent;\n",
              "      border-bottom-color: var(--fill-color);\n",
              "      border-left-color: var(--fill-color);\n",
              "    }\n",
              "    20% {\n",
              "      border-color: transparent;\n",
              "      border-left-color: var(--fill-color);\n",
              "      border-top-color: var(--fill-color);\n",
              "    }\n",
              "    30% {\n",
              "      border-color: transparent;\n",
              "      border-left-color: var(--fill-color);\n",
              "      border-top-color: var(--fill-color);\n",
              "      border-right-color: var(--fill-color);\n",
              "    }\n",
              "    40% {\n",
              "      border-color: transparent;\n",
              "      border-right-color: var(--fill-color);\n",
              "      border-top-color: var(--fill-color);\n",
              "    }\n",
              "    60% {\n",
              "      border-color: transparent;\n",
              "      border-right-color: var(--fill-color);\n",
              "    }\n",
              "    80% {\n",
              "      border-color: transparent;\n",
              "      border-right-color: var(--fill-color);\n",
              "      border-bottom-color: var(--fill-color);\n",
              "    }\n",
              "    90% {\n",
              "      border-color: transparent;\n",
              "      border-bottom-color: var(--fill-color);\n",
              "    }\n",
              "  }\n",
              "</style>\n",
              "\n",
              "  <script>\n",
              "    async function quickchart(key) {\n",
              "      const quickchartButtonEl =\n",
              "        document.querySelector('#' + key + ' button');\n",
              "      quickchartButtonEl.disabled = true;  // To prevent multiple clicks.\n",
              "      quickchartButtonEl.classList.add('colab-df-spinner');\n",
              "      try {\n",
              "        const charts = await google.colab.kernel.invokeFunction(\n",
              "            'suggestCharts', [key], {});\n",
              "      } catch (error) {\n",
              "        console.error('Error during call to suggestCharts:', error);\n",
              "      }\n",
              "      quickchartButtonEl.classList.remove('colab-df-spinner');\n",
              "      quickchartButtonEl.classList.add('colab-df-quickchart-complete');\n",
              "    }\n",
              "    (() => {\n",
              "      let quickchartButtonEl =\n",
              "        document.querySelector('#df-21fad5bb-f8ed-4d38-86cb-db67c8ba0ddf button');\n",
              "      quickchartButtonEl.style.display =\n",
              "        google.colab.kernel.accessAllowed ? 'block' : 'none';\n",
              "    })();\n",
              "  </script>\n",
              "</div>\n",
              "\n",
              "  <div id=\"id_3a571c46-f573-4e75-b92b-ed4692ea36cd\">\n",
              "    <style>\n",
              "      .colab-df-generate {\n",
              "        background-color: #E8F0FE;\n",
              "        border: none;\n",
              "        border-radius: 50%;\n",
              "        cursor: pointer;\n",
              "        display: none;\n",
              "        fill: #1967D2;\n",
              "        height: 32px;\n",
              "        padding: 0 0 0 0;\n",
              "        width: 32px;\n",
              "      }\n",
              "\n",
              "      .colab-df-generate:hover {\n",
              "        background-color: #E2EBFA;\n",
              "        box-shadow: 0px 1px 2px rgba(60, 64, 67, 0.3), 0px 1px 3px 1px rgba(60, 64, 67, 0.15);\n",
              "        fill: #174EA6;\n",
              "      }\n",
              "\n",
              "      [theme=dark] .colab-df-generate {\n",
              "        background-color: #3B4455;\n",
              "        fill: #D2E3FC;\n",
              "      }\n",
              "\n",
              "      [theme=dark] .colab-df-generate:hover {\n",
              "        background-color: #434B5C;\n",
              "        box-shadow: 0px 1px 3px 1px rgba(0, 0, 0, 0.15);\n",
              "        filter: drop-shadow(0px 1px 2px rgba(0, 0, 0, 0.3));\n",
              "        fill: #FFFFFF;\n",
              "      }\n",
              "    </style>\n",
              "    <button class=\"colab-df-generate\" onclick=\"generateWithVariable('compare_results')\"\n",
              "            title=\"Generate code using this dataframe.\"\n",
              "            style=\"display:none;\">\n",
              "\n",
              "  <svg xmlns=\"http://www.w3.org/2000/svg\" height=\"24px\"viewBox=\"0 0 24 24\"\n",
              "       width=\"24px\">\n",
              "    <path d=\"M7,19H8.4L18.45,9,17,7.55,7,17.6ZM5,21V16.75L18.45,3.32a2,2,0,0,1,2.83,0l1.4,1.43a1.91,1.91,0,0,1,.58,1.4,1.91,1.91,0,0,1-.58,1.4L9.25,21ZM18.45,9,17,7.55Zm-12,3A5.31,5.31,0,0,0,4.9,8.1,5.31,5.31,0,0,0,1,6.5,5.31,5.31,0,0,0,4.9,4.9,5.31,5.31,0,0,0,6.5,1,5.31,5.31,0,0,0,8.1,4.9,5.31,5.31,0,0,0,12,6.5,5.46,5.46,0,0,0,6.5,12Z\"/>\n",
              "  </svg>\n",
              "    </button>\n",
              "    <script>\n",
              "      (() => {\n",
              "      const buttonEl =\n",
              "        document.querySelector('#id_3a571c46-f573-4e75-b92b-ed4692ea36cd button.colab-df-generate');\n",
              "      buttonEl.style.display =\n",
              "        google.colab.kernel.accessAllowed ? 'block' : 'none';\n",
              "\n",
              "      buttonEl.onclick = () => {\n",
              "        google.colab.notebook.generateWithVariable('compare_results');\n",
              "      }\n",
              "      })();\n",
              "    </script>\n",
              "  </div>\n",
              "\n",
              "    </div>\n",
              "  </div>\n"
            ],
            "application/vnd.google.colaboratory.intrinsic+json": {
              "type": "dataframe",
              "variable_name": "compare_results",
              "summary": "{\n  \"name\": \"compare_results\",\n  \"rows\": 2,\n  \"fields\": [\n    {\n      \"column\": \"model_name\",\n      \"properties\": {\n        \"dtype\": \"string\",\n        \"num_unique_values\": 2,\n        \"samples\": [\n          \"FashionMNISTV1\",\n          \"FashionMNISTV0\"\n        ],\n        \"semantic_type\": \"\",\n        \"description\": \"\"\n      }\n    },\n    {\n      \"column\": \"model_loss\",\n      \"properties\": {\n        \"dtype\": \"number\",\n        \"std\": 0.10792682582784721,\n        \"min\": 0.36104363203048706,\n        \"max\": 0.5136752128601074,\n        \"num_unique_values\": 2,\n        \"samples\": [\n          0.36104363203048706,\n          0.5136752128601074\n        ],\n        \"semantic_type\": \"\",\n        \"description\": \"\"\n      }\n    },\n    {\n      \"column\": \"model_acc\",\n      \"properties\": {\n        \"dtype\": \"number\",\n        \"std\": 3.6852010760720595,\n        \"min\": 81.9988019169329,\n        \"max\": 87.21046325878594,\n        \"num_unique_values\": 2,\n        \"samples\": [\n          87.21046325878594,\n          81.9988019169329\n        ],\n        \"semantic_type\": \"\",\n        \"description\": \"\"\n      }\n    }\n  ]\n}"
            }
          },
          "metadata": {},
          "execution_count": 43
        }
      ]
    },
    {
      "cell_type": "code",
      "source": [
        "#visualise our trained model\n",
        "compare_results.set_index(\"model_name\")[\"model_loss\"].plot(kind = \"barh\")\n",
        "plt.xlabel(\"accuracy\")\n",
        "plt.ylabel(\"model\")\n"
      ],
      "metadata": {
        "colab": {
          "base_uri": "https://localhost:8080/",
          "height": 467
        },
        "id": "BOYWFTdlRavt",
        "outputId": "1c62704f-7c10-4c56-bdb4-7a59d59518a1"
      },
      "execution_count": null,
      "outputs": [
        {
          "output_type": "execute_result",
          "data": {
            "text/plain": [
              "Text(0, 0.5, 'model')"
            ]
          },
          "metadata": {},
          "execution_count": 47
        },
        {
          "output_type": "display_data",
          "data": {
            "text/plain": [
              "<Figure size 640x480 with 1 Axes>"
            ],
            "image/png": "[encoded data removed]"
          },
          "metadata": {}
        }
      ]
    },
    {
      "cell_type": "code",
      "source": [
        "##Make  predictions\n",
        "device=\"cpu\"\n",
        "def make_predictions(model: torch.nn.Module, data: list, device: torch.device = device):\n",
        "    pred_probs = []\n",
        "    model.eval()\n",
        "    with torch.inference_mode():\n",
        "        for sample in data:\n",
        "            # Prepare sample\n",
        "            sample = torch.unsqueeze(sample, dim=0).to(device) # Add an extra dimension and send sample to device\n",
        "\n",
        "            # Forward pass (model outputs raw logit)\n",
        "            pred_logit = model(sample)\n",
        "\n",
        "            # Get prediction probability (logit -> prediction probability)\n",
        "            pred_prob = torch.softmax(pred_logit.squeeze(), dim=0) # note: perform softmax on the \"logits\" dimension, not \"batch\" dimension (in this case we have a batch size of 1, so can perform on dim=0)\n",
        "\n",
        "            # Get pred_prob off GPU for further calculations\n",
        "            pred_probs.append(pred_prob.cpu())\n",
        "\n",
        "    # Stack the pred_probs to turn list into a tensor\n",
        "    return torch.stack(pred_probs)"
      ],
      "metadata": {
        "id": "NrqdiFuUURxG"
      },
      "execution_count": null,
      "outputs": []
    },
    {
      "cell_type": "code",
      "source": [
        "import random\n",
        "random.seed(42)\n",
        "test_samples = []\n",
        "test_labels = []\n",
        "for sample, label in random.sample(list(test_data), k=9):\n",
        "    test_samples.append(sample)\n",
        "    test_labels.append(label)\n",
        "\n"
      ],
      "metadata": {
        "id": "_74FlL5nVb0D"
      },
      "execution_count": null,
      "outputs": []
    },
    {
      "cell_type": "code",
      "source": [
        "test_samples[0].shape"
      ],
      "metadata": {
        "colab": {
          "base_uri": "https://localhost:8080/"
        },
        "id": "6Qq38VhqVmsv",
        "outputId": "cd25cdbb-5fd9-4b8f-9a1c-c1fc8cfd8baf"
      },
      "execution_count": null,
      "outputs": [
        {
          "output_type": "execute_result",
          "data": {
            "text/plain": [
              "torch.Size([1, 28, 28])"
            ]
          },
          "metadata": {},
          "execution_count": 52
        }
      ]
    },
    {
      "cell_type": "code",
      "source": [
        "plt.imshow(test_samples[0].squeeze(),cmap=\"gray\")\n",
        "plt.title(class_names[test_labels[0]])\n",
        "plt.axis(False)"
      ],
      "metadata": {
        "colab": {
          "base_uri": "https://localhost:8080/",
          "height": 446
        },
        "id": "d9B5IfD6WEJr",
        "outputId": "33f95c7d-c26d-4382-b26c-bb2f520e8fe8"
      },
      "execution_count": null,
      "outputs": [
        {
          "output_type": "execute_result",
          "data": {
            "text/plain": [
              "(-0.5, 27.5, 27.5, -0.5)"
            ]
          },
          "metadata": {},
          "execution_count": 54
        },
        {
          "output_type": "display_data",
          "data": {
            "text/plain": [
              "<Figure size 640x480 with 1 Axes>"
            ],
            "image/png": "[encoded data removed]"
          },
          "metadata": {}
        }
      ]
    },
    {
      "cell_type": "code",
      "source": [
        "##Make predictions\n",
        "pred_prob = make_predictions(model = model_2,data = test_samples)\n",
        "pred_prob"
      ],
      "metadata": {
        "colab": {
          "base_uri": "https://localhost:8080/"
        },
        "id": "_lgB659LWI6A",
        "outputId": "1c7faf36-b808-4507-e859-f6c9fbff0556"
      },
      "execution_count": null,
      "outputs": [
        {
          "output_type": "execute_result",
          "data": {
            "text/plain": [
              "tensor([[6.6325e-08, 1.7020e-08, 1.5953e-08, 2.8340e-08, 3.4465e-09, 9.9775e-01,\n",
              "         5.3059e-07, 4.9302e-06, 1.8348e-05, 2.2246e-03],\n",
              "        [4.8617e-02, 7.7317e-01, 1.2073e-03, 6.3735e-02, 9.0127e-02, 1.2933e-04,\n",
              "         2.2002e-02, 2.8544e-04, 7.0423e-04, 1.7729e-05],\n",
              "        [3.6351e-06, 1.8835e-08, 2.6736e-07, 2.0200e-06, 6.2868e-08, 2.6757e-03,\n",
              "         5.3557e-06, 9.3509e-01, 1.2783e-03, 6.0948e-02],\n",
              "        [9.9492e-04, 1.2401e-04, 3.0883e-01, 4.0857e-04, 6.8521e-01, 5.9697e-08,\n",
              "         4.2654e-03, 4.5973e-08, 1.6925e-04, 1.7466e-07],\n",
              "        [4.2854e-02, 4.0197e-04, 2.7228e-04, 9.3141e-01, 1.5305e-03, 2.2830e-06,\n",
              "         2.3045e-02, 2.1626e-05, 4.3920e-04, 2.6230e-05],\n",
              "        [7.1609e-01, 2.9646e-05, 9.4594e-04, 7.5885e-03, 9.1037e-03, 4.7524e-08,\n",
              "         2.6592e-01, 1.6327e-07, 3.2498e-04, 3.8417e-08],\n",
              "        [4.3144e-05, 4.5922e-05, 1.2216e-02, 1.6476e-06, 9.7402e-01, 8.9945e-08,\n",
              "         1.3487e-02, 2.1623e-11, 1.8181e-04, 3.8009e-08],\n",
              "        [9.2704e-06, 5.1441e-07, 5.0309e-06, 2.8147e-05, 1.0178e-06, 7.6574e-03,\n",
              "         8.2352e-06, 9.9162e-01, 5.4419e-04, 1.2325e-04],\n",
              "        [2.6725e-07, 9.9995e-01, 8.6347e-09, 2.4548e-05, 2.4945e-05, 1.9359e-07,\n",
              "         2.1011e-07, 4.5612e-08, 3.2052e-07, 6.3645e-09]])"
            ]
          },
          "metadata": {},
          "execution_count": 55
        }
      ]
    },
    {
      "cell_type": "code",
      "source": [
        "test_labels"
      ],
      "metadata": {
        "colab": {
          "base_uri": "https://localhost:8080/"
        },
        "id": "TxsdGMm0WbZn",
        "outputId": "28764de5-2109-4a21-a371-8973f47b57c0"
      },
      "execution_count": null,
      "outputs": [
        {
          "output_type": "execute_result",
          "data": {
            "text/plain": [
              "[5, 1, 7, 4, 3, 0, 4, 7, 1]"
            ]
          },
          "metadata": {},
          "execution_count": 56
        }
      ]
    },
    {
      "cell_type": "code",
      "source": [
        "##convert predictions probabilities into lAbels\n",
        "pred_classes = pred_prob.argmax(dim=1)\n",
        "pred_classes"
      ],
      "metadata": {
        "colab": {
          "base_uri": "https://localhost:8080/"
        },
        "id": "6x_t7oDzWivy",
        "outputId": "72f60e95-fe42-4e69-8af3-ee7c9043b164"
      },
      "execution_count": null,
      "outputs": [
        {
          "output_type": "execute_result",
          "data": {
            "text/plain": [
              "tensor([5, 1, 7, 4, 3, 0, 4, 7, 1])"
            ]
          },
          "metadata": {},
          "execution_count": 58
        }
      ]
    },
    {
      "cell_type": "code",
      "source": [
        "#plot predictions\n",
        "plt.figure(figsize=(9,9))\n",
        "rows, cols = 3,3\n",
        "for i, sample in enumerate(test_samples):\n",
        "    plt.subplot(rows, cols, i+1)\n",
        "    plt.imshow(sample.squeeze(), cmap=\"gray\")\n",
        "    plt.title(f\"Pred: {pred_classes[i]} | Truth: {test_labels[i]}\")\n",
        "    plt.axis(False)"
      ],
      "metadata": {
        "colab": {
          "base_uri": "https://localhost:8080/",
          "height": 752
        },
        "id": "gE7-vZJkWsbf",
        "outputId": "f204cbe8-565c-4a1f-c457-ec167af58cd4"
      },
      "execution_count": null,
      "outputs": [
        {
          "output_type": "display_data",
          "data": {
            "text/plain": [
              "<Figure size 900x900 with 9 Axes>"
            ],
            "image/png": "[encoded data removed]"
          },
          "metadata": {}
        }
      ]
    },
    {
      "cell_type": "markdown",
      "source": [
        "##SAVING THE MODEL"
      ],
      "metadata": {
        "id": "vIkewrTgX47H"
      }
    },
    {
      "source": [
        "from pathlib import Path\n",
        "#create model path dir\n",
        "Model_path = Path(\"models\")\n",
        "Model_path.mkdir(parents=True,exist_ok=True)\n",
        "#create model save\n",
        "Model_name = \"FashionMNISTModelV1.pth\"\n",
        "model_save_path = Model_path/Model_name\n",
        "\n",
        "# Save the model's state dictionary\n",
        "torch.save(model_2.state_dict(), model_save_path) # Adding this line to save the model\n",
        "\n",
        "#create the new instance\n",
        "torch.manual_seed(42)\n",
        "loaded_model_2 = FashionMNISTV1(input_shape = 1,hidden_units = 30,output_shape = len(class_names))\n",
        "loaded_model_2.load_state_dict(torch.load(f = model_save_path))"
      ],
      "cell_type": "code",
      "metadata": {
        "colab": {
          "base_uri": "https://localhost:8080/"
        },
        "id": "_kHIJMkrZjQ0",
        "outputId": "a02eeeae-3d19-4a99-f99c-460acc50ed56"
      },
      "execution_count": null,
      "outputs": [
        {
          "output_type": "stream",
          "name": "stderr",
          "text": [
            "<ipython-input-64-acb071016fe1>:15: FutureWarning: You are using `torch.load` with `weights_only=False` (the current default value), which uses the default pickle module implicitly. It is possible to construct malicious pickle data which will execute arbitrary code during unpickling (See https://github.com/pytorch/pytorch/blob/main/SECURITY.md#untrusted-models for more details). In a future release, the default value for `weights_only` will be flipped to `True`. This limits the functions that could be executed during unpickling. Arbitrary objects will no longer be allowed to be loaded via this mode unless they are explicitly allowlisted by the user via `torch.serialization.add_safe_globals`. We recommend you start setting `weights_only=True` for any use case where you don't have full control of the loaded file. Please open an issue on GitHub for any issues related to this experimental feature.\n",
            "  loaded_model_2.load_state_dict(torch.load(f = model_save_path))\n"
          ]
        },
        {
          "output_type": "execute_result",
          "data": {
            "text/plain": [
              "<All keys matched successfully>"
            ]
          },
          "metadata": {},
          "execution_count": 64
        }
      ]
    },
    {
      "cell_type": "code",
      "source": [
        "#create the new instance\n",
        "torch.manual_seed(42)\n",
        "loaded_model_2 = FashionMNISTV1(input_shape = 1,hidden_units = 30,output_shape = len(class_names))\n",
        "loaded_model_2.load_state_dict(torch.load(f = model_save_path))"
      ],
      "metadata": {
        "colab": {
          "base_uri": "https://localhost:8080/"
        },
        "id": "KQJWvak4ZTi4",
        "outputId": "78a0a085-86ff-4ce6-c1d5-6672e442b157"
      },
      "execution_count": null,
      "outputs": [
        {
          "output_type": "stream",
          "name": "stderr",
          "text": [
            "<ipython-input-65-a2db97566082>:4: FutureWarning: You are using `torch.load` with `weights_only=False` (the current default value), which uses the default pickle module implicitly. It is possible to construct malicious pickle data which will execute arbitrary code during unpickling (See https://github.com/pytorch/pytorch/blob/main/SECURITY.md#untrusted-models for more details). In a future release, the default value for `weights_only` will be flipped to `True`. This limits the functions that could be executed during unpickling. Arbitrary objects will no longer be allowed to be loaded via this mode unless they are explicitly allowlisted by the user via `torch.serialization.add_safe_globals`. We recommend you start setting `weights_only=True` for any use case where you don't have full control of the loaded file. Please open an issue on GitHub for any issues related to this experimental feature.\n",
            "  loaded_model_2.load_state_dict(torch.load(f = model_save_path))\n"
          ]
        },
        {
          "output_type": "execute_result",
          "data": {
            "text/plain": [
              "<All keys matched successfully>"
            ]
          },
          "metadata": {},
          "execution_count": 65
        }
      ]
    },
    {
      "cell_type": "code",
      "source": [
        "loaded_model_2.to(device)"
      ],
      "metadata": {
        "colab": {
          "base_uri": "https://localhost:8080/"
        },
        "id": "8B_PARddZvZl",
        "outputId": "fd85e8c2-bae5-4685-8155-ad2dc88dec0c"
      },
      "execution_count": null,
      "outputs": [
        {
          "output_type": "execute_result",
          "data": {
            "text/plain": [
              "FashionMNISTV1(\n",
              "  (conv_block_1): Sequential(\n",
              "    (0): Conv2d(1, 30, kernel_size=(3, 3), stride=(1, 1), padding=(1, 1))\n",
              "    (1): ReLU()\n",
              "    (2): Conv2d(30, 30, kernel_size=(3, 3), stride=(1, 1), padding=(1, 1))\n",
              "    (3): ReLU()\n",
              "    (4): MaxPool2d(kernel_size=2, stride=2, padding=0, dilation=1, ceil_mode=False)\n",
              "  )\n",
              "  (conv_block_2): Sequential(\n",
              "    (0): Conv2d(30, 30, kernel_size=(3, 3), stride=(1, 1), padding=(1, 1))\n",
              "    (1): ReLU()\n",
              "    (2): Conv2d(30, 30, kernel_size=(3, 3), stride=(1, 1), padding=(1, 1))\n",
              "    (3): ReLU()\n",
              "    (4): MaxPool2d(kernel_size=2, stride=2, padding=0, dilation=1, ceil_mode=False)\n",
              "  )\n",
              "  (classifier): Sequential(\n",
              "    (0): Flatten(start_dim=1, end_dim=-1)\n",
              "    (1): Linear(in_features=1470, out_features=10, bias=True)\n",
              "  )\n",
              ")"
            ]
          },
          "metadata": {},
          "execution_count": 66
        }
      ]
    },
    {
      "cell_type": "code",
      "source": [
        "model_2_results"
      ],
      "metadata": {
        "colab": {
          "base_uri": "https://localhost:8080/"
        },
        "id": "himyN9N0Z2NG",
        "outputId": "f7b664f8-7a10-4fb1-d2a8-64c8de34d5f1"
      },
      "execution_count": null,
      "outputs": [
        {
          "output_type": "execute_result",
          "data": {
            "text/plain": [
              "{'model_name': 'FashionMNISTV1',\n",
              " 'model_loss': 0.36104363203048706,\n",
              " 'model_acc': 87.21046325878594}"
            ]
          },
          "metadata": {},
          "execution_count": 67
        }
      ]
    },
    {
      "cell_type": "code",
      "source": [
        "##Evaluate the model\n",
        "torch.manual_seed(42)\n",
        "loaded_model_2_results = eval_model(\n",
        "    model = loaded_model_2,\n",
        "    data_loader = test_dataloader,\n",
        "    loss_fn = loss_fn,\n",
        "    accuracy_fn = accuracy_fn\n",
        ")\n",
        "loaded_model_2_results"
      ],
      "metadata": {
        "colab": {
          "base_uri": "https://localhost:8080/"
        },
        "id": "EHdRBPDBZ6up",
        "outputId": "a39434d7-8450-4fa7-f183-7f750398a557"
      },
      "execution_count": null,
      "outputs": [
        {
          "output_type": "execute_result",
          "data": {
            "text/plain": [
              "{'model_name': 'FashionMNISTV1',\n",
              " 'model_loss': 0.36104363203048706,\n",
              " 'model_acc': 87.21046325878594}"
            ]
          },
          "metadata": {},
          "execution_count": 68
        }
      ]
    },
    {
      "cell_type": "code",
      "source": [],
      "metadata": {
        "id": "kdXCySkHaGED"
      },
      "execution_count": null,
      "outputs": []
    }
  ]
}